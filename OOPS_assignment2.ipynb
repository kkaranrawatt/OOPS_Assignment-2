{
 "cells": [
  {
   "cell_type": "code",
   "execution_count": 1,
   "id": "7a1e5035",
   "metadata": {},
   "outputs": [],
   "source": [
    "# What is a constructor in Python? Explain its purpose and usage\n",
    "# \"Constructors are generally used for instantiating an object.The task of constructors is to initialize(assign values)\n",
    "# \"to the data members of the class when an object of class is created.In Python the __init__() method is called the\n",
    "# \"constructor and is always called when an object is created.\n",
    "\n",
    "# default constructor: The default constructor is simple constructor which doesn’t accept any arguments.\n",
    "# It’s definition has only one argument which is a reference to the instance being constructed.\n",
    "\n",
    "# parameterized constructor: constructor with parameters is known as parameterized constructor. \n",
    "# The parameterized constructor take its first argument as a reference to the instance being constructed known as self\n",
    "# and the rest of the arguments are provided by the programmer."
   ]
  },
  {
   "cell_type": "code",
   "execution_count": 2,
   "id": "84c41389",
   "metadata": {},
   "outputs": [
    {
     "name": "stdout",
     "output_type": "stream",
     "text": [
      "This is default Constructor\n",
      "Method called without name\n",
      "This is parameterized constructor Karan\n",
      "Method called with the name Karan\n"
     ]
    }
   ],
   "source": [
    "class Myclass:\n",
    "    def __init__(self, name=None):\n",
    "        if name is None:\n",
    "            print(\"This is default Constructor\")\n",
    "        else:\n",
    "            self.name=name\n",
    "            print('This is parameterized constructor', self.name)\n",
    "    \n",
    "    def method(self):\n",
    "        if hasattr(self, 'name'):\n",
    "            print('Method called with the name', self.name)\n",
    "        else:\n",
    "            print('Method called without name')\n",
    "\n",
    "obj1=Myclass()\n",
    "obj1.method()\n",
    "obj2=Myclass('Karan')\n",
    "obj2.method()"
   ]
  },
  {
   "cell_type": "code",
   "execution_count": 3,
   "id": "1840706d",
   "metadata": {},
   "outputs": [],
   "source": [
    "# Differentiate between a parameterless constructor and a parameterized constructor in Python.\n",
    "# A parameterized constructor is a constructor that takes one or more arguments.\n",
    "# It is used to create an object with custom values for its attributes.\n",
    "\n",
    "# Non-Parameterized Constructor: A non-parameterized constructor is a constructor that does not take any arguments."
   ]
  },
  {
   "cell_type": "code",
   "execution_count": 16,
   "id": "4f622173",
   "metadata": {},
   "outputs": [
    {
     "name": "stdout",
     "output_type": "stream",
     "text": [
      "ID and Name of employee is: ('Karan', 154)\n",
      "ID and Name of employee is: ('Rawat', 253)\n"
     ]
    }
   ],
   "source": [
    "# How do you define a constructor in a Python class? Provide an example.\n",
    "class employee:\n",
    "    def __init__(self, name, id):\n",
    "        self.name=name\n",
    "        self.id=id\n",
    "    \n",
    "    def display(self):\n",
    "        print(\"ID and Name of employee is:\", (self.name, self.id))\n",
    "\n",
    "emp1=employee('Karan',154)\n",
    "emp2=employee('Rawat',253)\n",
    "\n",
    "emp1.display()\n",
    "emp2.display()"
   ]
  },
  {
   "cell_type": "code",
   "execution_count": 17,
   "id": "ce376e59",
   "metadata": {},
   "outputs": [],
   "source": [
    "# Explain the `__init__` method in Python and its role in constructors.\n",
    "# The __init__ method is the Python equivalent of the C++ constructor in an object-oriented approach.\n",
    "# The __init__  function is called every time an object is created from a class.\n",
    "# The __init__ method lets the class initialize the object’s attributes and serves no other purpose.\n",
    "# It is only used within classes"
   ]
  },
  {
   "cell_type": "code",
   "execution_count": 20,
   "id": "8c0b90a1",
   "metadata": {},
   "outputs": [
    {
     "name": "stdout",
     "output_type": "stream",
     "text": [
      "The name and age of the Person is: ('Karan', 25)\n",
      "The name and age of the Person is: ('Raj', 30)\n"
     ]
    }
   ],
   "source": [
    "class Person:\n",
    "    def __init__(self, name, age):\n",
    "        self.name=name\n",
    "        self.age=age\n",
    "    \n",
    "    def display(self):\n",
    "        print('The name and age of the Person is:',(self.name, self.age))\n",
    "        \n",
    "p1=Person(\"Karan\",25)\n",
    "p2=Person(\"Raj\",30)\n",
    "\n",
    "p1.display()\n",
    "p2.display()"
   ]
  },
  {
   "cell_type": "code",
   "execution_count": 21,
   "id": "a956005e",
   "metadata": {},
   "outputs": [],
   "source": [
    "# What is the significance of the `self` parameter in Python constructors? Explain with an example\n",
    "# The self is used to represent the instance of the class. With this keyword, you can access the attributes \n",
    "# and methods of the class in python. It binds the attributes with the given arguments."
   ]
  },
  {
   "cell_type": "code",
   "execution_count": 22,
   "id": "8a7f35fc",
   "metadata": {},
   "outputs": [],
   "source": [
    "# Discuss the concept of default constructors in Python. When are they used?\n",
    "# Default Constructor: A default constructor is a constructor that takes no arguments.\n",
    "# It is used to create an object with default values for its attributes.\n",
    "# The default constructor is a simple constructor which doesn't accept any arguments."
   ]
  },
  {
   "cell_type": "code",
   "execution_count": 23,
   "id": "a0b97fed",
   "metadata": {},
   "outputs": [
    {
     "name": "stdout",
     "output_type": "stream",
     "text": [
      "120\n"
     ]
    }
   ],
   "source": [
    "class rectangle():\n",
    "    def __init__(self, l,w):\n",
    "        self.length=l\n",
    "        self.width=w\n",
    "    \n",
    "    def rect_are(self):\n",
    "        return self.length*self.width\n",
    "\n",
    "newrectangle=rectangle(10,12)\n",
    "print(newrectangle.rect_are())"
   ]
  },
  {
   "cell_type": "code",
   "execution_count": 24,
   "id": "a38fdbe2",
   "metadata": {},
   "outputs": [],
   "source": [
    "# How can you have multiple constructors in a Python class? Explain with an example.\n",
    "# Multiple constructors are required when one has to perform different actions on the instantiation of a Python class."
   ]
  },
  {
   "cell_type": "code",
   "execution_count": 25,
   "id": "6b500cd0",
   "metadata": {},
   "outputs": [
    {
     "name": "stdout",
     "output_type": "stream",
     "text": [
      "Hello Karan\n"
     ]
    }
   ],
   "source": [
    "def say_hello():\n",
    "    print('Hello World')\n",
    "\n",
    "def say_hello():\n",
    "    print('Hello Karan')\n",
    "\n",
    "say_hello()"
   ]
  },
  {
   "cell_type": "code",
   "execution_count": 1,
   "id": "3764f7e2",
   "metadata": {},
   "outputs": [],
   "source": [
    "# What is method overloading, and how is it related to constructors in Python.\n",
    "# Two methods in a class have the same name we call method overloading. Both the methods are having different signatures. \n",
    "# Signature means a different number of parameters. If the constructor is written two times with different signatures,\n",
    "# we call constructor overloading"
   ]
  },
  {
   "cell_type": "code",
   "execution_count": 2,
   "id": "8003712b",
   "metadata": {},
   "outputs": [],
   "source": [
    "# Explain the use of the `super()` function in Python constructors. Provide an example.\n",
    "# The super() function is used to give access to methods and properties of a parent or sibling class.\n",
    "# The super() function returns an object that represents the parent class.\n"
   ]
  },
  {
   "cell_type": "code",
   "execution_count": 3,
   "id": "0deffa9e",
   "metadata": {},
   "outputs": [
    {
     "name": "stdout",
     "output_type": "stream",
     "text": [
      "Hello and Welcome!\n"
     ]
    }
   ],
   "source": [
    "class parent:\n",
    "    def __init__(self,txt):\n",
    "        self.message=txt\n",
    "    \n",
    "    def printmsg(self):\n",
    "        print(self.message)\n",
    "    \n",
    "class child(parent):\n",
    "    def __init__(self,txt):\n",
    "        super().__init__(txt)\n",
    "\n",
    "x=child('Hello and Welcome!')\n",
    "x.printmsg()"
   ]
  },
  {
   "cell_type": "code",
   "execution_count": 1,
   "id": "ea6f7e7d",
   "metadata": {},
   "outputs": [
    {
     "name": "stdout",
     "output_type": "stream",
     "text": [
      "The title, author and published year of the book is:  ('Live Free Die Hard', 'Karan Singh Rawat', '2024')\n"
     ]
    }
   ],
   "source": [
    "class Book:\n",
    "    def __init__(self, title, author, published_year):\n",
    "        self.title=title\n",
    "        self.author=author\n",
    "        self.published_year=published_year\n",
    "    \n",
    "    def book_details(self):\n",
    "        print('The title, author and published year of the book is: ',(self.title, self.author, self.published_year))\n",
    "    \n",
    "b1=Book('Live Free Die Hard', 'Karan Singh Rawat', '2024')\n",
    "b1.book_details()"
   ]
  },
  {
   "cell_type": "code",
   "execution_count": 2,
   "id": "460230c4",
   "metadata": {},
   "outputs": [],
   "source": [
    "# What is the main difference between a Constructor and a Method?\n",
    "# A constructor helps in initializing an object, has no return type and cannot be inherited by subclasses.\n",
    "# On the other hand, a method executes operations, returns a value, and can be inherited by subclasses."
   ]
  },
  {
   "cell_type": "code",
   "execution_count": 3,
   "id": "24e9e68a",
   "metadata": {},
   "outputs": [],
   "source": [
    "# Explain the role of the `self` parameter in instance variable initialization within a constructor.\n",
    "# In the constructor, “self” is used to initialize instance variables (arg1 and arg2) with the values passed as arguments.\n",
    "# In the my_method, “self” is used to access and print the values of arg1 and arg2.\n",
    "# It's important to note that “self” is a convention and not a keyword in Python."
   ]
  },
  {
   "cell_type": "code",
   "execution_count": 18,
   "id": "b9e84db3",
   "metadata": {},
   "outputs": [
    {
     "name": "stdout",
     "output_type": "stream",
     "text": [
      "Student name is: Karan \n",
      "Marks in English is: 50 \n",
      "Marks in Maths is: 60 \n",
      "Marks in Science is: 70\n"
     ]
    }
   ],
   "source": [
    "class student:\n",
    "    def __init__(self, name, english, maths, science):\n",
    "        self.english=english\n",
    "        self.name=name\n",
    "        self.maths=maths\n",
    "        self.science=science\n",
    "    \n",
    "    def subject_det(self):\n",
    "        print('Student name is:',(self.name),'\\nMarks in English is:',(self.english),'\\nMarks in Maths is:',(self.maths),'\\nMarks in Science is:',(self.science))\n",
    "        \n",
    "s1=student('Karan', 50, 60, 70)\n",
    "s1.subject_det()"
   ]
  },
  {
   "cell_type": "code",
   "execution_count": 19,
   "id": "0af28240",
   "metadata": {},
   "outputs": [],
   "source": [
    "# What is the purpose of the `__del__` method in Python classes, and how does it relate to constructors?\n",
    "# the __del__() method is referred to as a destructor method. It is called after an object's garbage collection occurs,\n",
    "# which happens after all references to the item have been destroyed. Student table created.\n",
    "# Destructor called, Student table deleted"
   ]
  },
  {
   "cell_type": "code",
   "execution_count": 1,
   "id": "3f4f2f15",
   "metadata": {},
   "outputs": [],
   "source": [
    "# Explain the use of constructor chaining in Python. Provide a practical example.\n",
    "# This practice allows for efficient and consistent object initialization while providing flexibility for different scenarios.\n",
    "# Chaining can involve calling a parent class constructor using super() or calling another constructor within the same class."
   ]
  },
  {
   "cell_type": "code",
   "execution_count": 3,
   "id": "92008ef9",
   "metadata": {},
   "outputs": [
    {
     "name": "stdout",
     "output_type": "stream",
     "text": [
      "Toyota Hilux 2024 Red\n",
      "BMW X6 2024 Black\n"
     ]
    }
   ],
   "source": [
    "class car:\n",
    "    def __init__(self, make, model, year, color):\n",
    "        self.make=make\n",
    "        self.model=model\n",
    "        self.year=year\n",
    "        self.color=color\n",
    "\n",
    "class carwithcolor(car):\n",
    "    def __init__(self, make, model, year, color):\n",
    "        super().__init__(make, model, year, color)\n",
    "\n",
    "car1=carwithcolor('Toyota', 'Hilux', 2024, 'Red')\n",
    "car2=carwithcolor('BMW', 'X6', 2024, 'Black')\n",
    "print(car1.make, car1.model, car1.year, car1.color)\n",
    "print(car2.make, car2.model, car2.year, car2.color)"
   ]
  },
  {
   "cell_type": "code",
   "execution_count": 4,
   "id": "63cf23cc",
   "metadata": {},
   "outputs": [],
   "source": [
    "# What is inheritance in Python? Explain its significance in object-oriented programming.\n",
    "# Inheritance allows you to inherit the properties of a class, i.e., base class to another, i.e., derived class.\n",
    "# The benefits of Inheritance in Python are as follows: It represents real-world relationships well.\n",
    "# It provides the reusability of a code\n",
    "# In object-oriented programming (OOP), inheritance is a mechanism that allows a class to inherit properties and behaviors\n",
    "# from another class. It is a fundamental concept in OOP that promotes code reuse and establishes relationships between classes."
   ]
  },
  {
   "cell_type": "code",
   "execution_count": 1,
   "id": "d2e82d88",
   "metadata": {},
   "outputs": [],
   "source": [
    "# Differentiate between single inheritance and multiple inheritance in Python. Provide examples for each."
   ]
  },
  {
   "cell_type": "code",
   "execution_count": 2,
   "id": "da4f202a",
   "metadata": {},
   "outputs": [
    {
     "name": "stdout",
     "output_type": "stream",
     "text": [
      "This is from Parent class\n",
      "This is from Child class\n"
     ]
    }
   ],
   "source": [
    "#single inheritence\n",
    "class parent:\n",
    "    def f1(self):\n",
    "        print('This is from Parent class')\n",
    "\n",
    "class child(parent):\n",
    "    def f2(self):\n",
    "        print('This is from Child class')\n",
    "\n",
    "obj=child()\n",
    "obj.f1()\n",
    "obj.f2()"
   ]
  },
  {
   "cell_type": "code",
   "execution_count": 3,
   "id": "e77e7db3",
   "metadata": {},
   "outputs": [
    {
     "name": "stdout",
     "output_type": "stream",
     "text": [
      "Father name is: Ram\n",
      "Mother name is: Sita\n"
     ]
    }
   ],
   "source": [
    "#multiple inheritence\n",
    "class Mother:\n",
    "    mothername=''\n",
    "    def mother(self):\n",
    "        self.mothername\n",
    "        \n",
    "class Father:\n",
    "    fathername=''\n",
    "    def father(self):\n",
    "        self.fathername\n",
    "    \n",
    "class Son(Mother, Father):\n",
    "    def parents(self):\n",
    "        print('Father name is:', self.fathername)\n",
    "        print('Mother name is:', self.mothername)\n",
    "    \n",
    "s1=Son()\n",
    "s1.fathername='Ram'\n",
    "s1.mothername='Sita'\n",
    "s1.parents()"
   ]
  },
  {
   "cell_type": "code",
   "execution_count": 5,
   "id": "a497a54b",
   "metadata": {},
   "outputs": [
    {
     "name": "stdout",
     "output_type": "stream",
     "text": [
      "180 Black Audi\n"
     ]
    }
   ],
   "source": [
    "class Vehicle:\n",
    "    def __init__(self, speed, color,brand):\n",
    "        self.speed=speed\n",
    "        self.color=color\n",
    "        self.brand=brand\n",
    "    \n",
    "class Car(Vehicle):\n",
    "    def car(self, brand):\n",
    "        print(self.speed, self.color, self.brand)\n",
    "\n",
    "v1=Car\n",
    "#v1.speed=180\n",
    "#v1.color='Black'\n",
    "#v1.brand='Audi'\n",
    "#v1.car()\n",
    "v1=Car(180, 'Black', 'Audi')\n",
    "print(v1.speed, v1.color, v1.brand)"
   ]
  },
  {
   "cell_type": "code",
   "execution_count": 1,
   "id": "f6fcf8c3",
   "metadata": {},
   "outputs": [],
   "source": [
    "#Explain the concept of method overriding in inheritance. Provide a practical example\n",
    "#Providing a public method in a subclass with the same method signature (method name, parameter type list and return type)\n",
    "#as a public method in the superclass. The method in the subclass will be called instead of the method in the superclass."
   ]
  },
  {
   "cell_type": "code",
   "execution_count": 2,
   "id": "0353a6f1",
   "metadata": {},
   "outputs": [
    {
     "name": "stdout",
     "output_type": "stream",
     "text": [
      "calling from Child method\n"
     ]
    }
   ],
   "source": [
    "#method overriding\n",
    "class parent:\n",
    "    def mymethod(self):\n",
    "        print('calling from Parent method')\n",
    "    \n",
    "class child(parent):\n",
    "    def mymethod(self):\n",
    "        print('calling from Child method')\n",
    "\n",
    "c=child()\n",
    "c.mymethod()"
   ]
  },
  {
   "cell_type": "code",
   "execution_count": 1,
   "id": "138cf49a",
   "metadata": {},
   "outputs": [
    {
     "name": "stdout",
     "output_type": "stream",
     "text": [
      "Karan Rawat\n"
     ]
    }
   ],
   "source": [
    "class person:\n",
    "    def __init__(self, fname, lname):\n",
    "        self.firstname=fname\n",
    "        self.lastname=lname\n",
    "    \n",
    "    def printname(self):\n",
    "        print(self.firstname, self.lastname)\n",
    "    \n",
    "class student(person):\n",
    "    def __init__(self, fname, lname):\n",
    "        super().__init__(fname, lname)\n",
    "    \n",
    "x=student('Karan','Rawat')\n",
    "x.printname()"
   ]
  },
  {
   "cell_type": "code",
   "execution_count": 2,
   "id": "e6a07a21",
   "metadata": {},
   "outputs": [],
   "source": [
    "#Discuss the use of the `super()` function in Python inheritance. When and why is it used? Provide an example.\n",
    "#the super() function is used to refer to the parent class or superclass. It allows you to call methods defined in the \n",
    "#superclass from the subclass, enabling you to extend and customize the functionality inherited from the parent class."
   ]
  },
  {
   "cell_type": "code",
   "execution_count": 3,
   "id": "6f15dd85",
   "metadata": {},
   "outputs": [
    {
     "name": "stdout",
     "output_type": "stream",
     "text": [
      "Cat meows\n",
      "Dogs bark\n"
     ]
    }
   ],
   "source": [
    "class Animal:\n",
    "    def speak(self):\n",
    "        print('Animal speaks')\n",
    "    \n",
    "class Dog(Animal):\n",
    "    def speak(self):\n",
    "        print('Dogs bark')\n",
    "    \n",
    "class Cat(Animal):\n",
    "    def speak(self):\n",
    "        print('Cat meows')\n",
    "    \n",
    "c=Cat()\n",
    "d=Dog()\n",
    "c.speak()\n",
    "d.speak()"
   ]
  },
  {
   "cell_type": "code",
   "execution_count": 1,
   "id": "b606349a",
   "metadata": {},
   "outputs": [],
   "source": [
    "#Explain the role of the `isinstance()` function in Python and how it relates to inheritance\n",
    "#The isinstance Python is an in-built function that is based on the concept of objects.\n",
    "#The most important and common use of the function is to know which object belongs to which class in the middle of the program.\n",
    "#The isinstance () function checks whether an object is an instance of the class mentioned.\n",
    "#One can test if an object or variable is an instance of the type or class.\n",
    "#If inheritance is present in the program, then the function can be used to check if a specified class is the parent class of an object."
   ]
  },
  {
   "cell_type": "code",
   "execution_count": 2,
   "id": "f4801a6d",
   "metadata": {},
   "outputs": [],
   "source": [
    "#What is the purpose of the `issubclass()` function in Python? Provide an example.\n",
    "#The issubclass () function returns either of the two values: True or False.\n",
    "#Python issubclass() is a built-in function used to check if a class is a subclass of another class or not.\n",
    "#If it returns true, that means that the class passed in the parameter is a subclass of the required class.\n",
    "#If it is false, then it is not.\n",
    "#This function returns True if the given class is the subclass else it returns False."
   ]
  },
  {
   "cell_type": "code",
   "execution_count": 7,
   "id": "5ddf023b",
   "metadata": {},
   "outputs": [
    {
     "name": "stdout",
     "output_type": "stream",
     "text": [
      "True\n",
      "False\n",
      "True\n",
      "True\n"
     ]
    }
   ],
   "source": [
    "class vehicles:\n",
    "    def __init__(vehicletype):\n",
    "        print('Vehicle is', vehicletype)\n",
    "    \n",
    "class Car(vehicles):\n",
    "    def __init__(self):\n",
    "        vehicles.__init__('Car')\n",
    "    \n",
    "print(issubclass(Car, vehicles))\n",
    "print(issubclass(Car, list))\n",
    "print(issubclass(Car, Car))\n",
    "print(issubclass(Car, (list, vehicles)))"
   ]
  },
  {
   "cell_type": "code",
   "execution_count": 8,
   "id": "dfb0e301",
   "metadata": {},
   "outputs": [],
   "source": [
    "#Discuss the concept of constructor inheritance in Python. How are constructors inherited in child classes?\n",
    "#When a drived class is extended from the base class, the constructor of the base class is executed first followed by the\n",
    "#constructor of the derived class. For the following Inheritance hierarchy.\n",
    "#the constructors are executed in the order: C1- Parent. C2 - Child."
   ]
  },
  {
   "cell_type": "code",
   "execution_count": 12,
   "id": "5073526a",
   "metadata": {},
   "outputs": [
    {
     "name": "stdout",
     "output_type": "stream",
     "text": [
      "Karan\n",
      "1513\n"
     ]
    }
   ],
   "source": [
    "class Person:\n",
    "    def __init__(self, name, idnum):\n",
    "        self.name=name\n",
    "        self.idnum=idnum\n",
    "    \n",
    "    def display(self):\n",
    "        print(self.name)\n",
    "        print(self.idnum)\n",
    "    \n",
    "class Employee(Person):\n",
    "    def __init__(self, name, idnum, salary, post):\n",
    "        self.salary=salary\n",
    "        self.post=post\n",
    "        Person.__init__(self, name, idnum)\n",
    "    \n",
    "a=Employee('Karan', 1513, 150000, 'Data Scientist')\n",
    "a.display()"
   ]
  },
  {
   "cell_type": "code",
   "execution_count": 15,
   "id": "6907f3db",
   "metadata": {},
   "outputs": [
    {
     "name": "stdout",
     "output_type": "stream",
     "text": [
      "Radius of the circle: 7\n",
      "Circle area is: 153.93804002589985\n",
      "Circle perimeter is: 43.982297150257104\n",
      "\n",
      "Rectangle: Length= 5 Width= 7\n",
      "Rectangle area is: 35\n",
      "Rectangle perimeter is: 24\n"
     ]
    }
   ],
   "source": [
    "#Create a Python class called `Shape` with a method `area()` that calculates the area of a shape.\n",
    "#Then, create child classes `Circle` and `Rectangle` that inherit from `Shape` and implement the `area()` method accordingly. \n",
    "#Provide an example\n",
    "import math\n",
    "class shape:\n",
    "    def calculate_area(self):\n",
    "        pass\n",
    "    \n",
    "    def calculate_perimeter(self):\n",
    "        pass\n",
    "\n",
    "class circle(shape):\n",
    "    def __init__(self, radius):\n",
    "        self.radius=radius\n",
    "    \n",
    "    def calculate_area(self):\n",
    "        return math.pi*self.radius**2\n",
    "\n",
    "    def calculate_perimeter(self):\n",
    "        return 2*math.pi*self.radius\n",
    "    \n",
    "class Rectangle(shape):\n",
    "    def __init__(self, length, width):\n",
    "        self.length=length\n",
    "        self.width=width\n",
    "    \n",
    "    def calculate_area(self):\n",
    "        return self.length*self.width\n",
    "    \n",
    "    def calculate_perimeter(self):\n",
    "        return 2*(self.length + self.width)\n",
    "\n",
    "r=7\n",
    "circle=circle(r)\n",
    "circle_area=circle.calculate_area()\n",
    "circle_perimeter=circle.calculate_perimeter()\n",
    "\n",
    "print('Radius of the circle:',r)\n",
    "print('Circle area is:',circle_area)\n",
    "print('Circle perimeter is:',circle_perimeter)\n",
    "\n",
    "l=5\n",
    "w=7\n",
    "rectangle=Rectangle(l,w)\n",
    "rectangle_area=rectangle.calculate_area()\n",
    "rectangle_perimeter=rectangle.calculate_perimeter()\n",
    "\n",
    "print('\\nRectangle: Length=', l, 'Width=', w)\n",
    "print('Rectangle area is:', rectangle_area)\n",
    "print('Rectangle perimeter is:', rectangle_perimeter)"
   ]
  },
  {
   "cell_type": "code",
   "execution_count": 16,
   "id": "8df14f3b",
   "metadata": {},
   "outputs": [],
   "source": [
    "# Explain the use of abstract base classes (ABCs) in Python and how they relate to inheritance. \n",
    "#Provide an example using the `abc` module.\n",
    "#Abstract Base Classes define a class hierarchy in which some methods are marked as abstract using the @abstractmethod decorator\n",
    "#Subclasses must implement these abstract methods to be considered valid.\n",
    "#In Python, you need to import the ABC class and the abstractmethod decorator from the abc module."
   ]
  },
  {
   "cell_type": "code",
   "execution_count": 13,
   "id": "4540be32",
   "metadata": {},
   "outputs": [
    {
     "name": "stdout",
     "output_type": "stream",
     "text": [
      "Triangle have 3 sides\n",
      "Quadrilateral have 4 sides\n",
      "Pentagon have 5 sides\n",
      "Hexagon have 6 sides\n"
     ]
    }
   ],
   "source": [
    "from abc import ABC, abstractmethod\n",
    "class Polygon(ABC):\n",
    "    @abstractmethod\n",
    "    def noofsides(self):\n",
    "        pass\n",
    "    \n",
    "class Triangle(Polygon):\n",
    "    def noofsides(self):\n",
    "        print('Triangle have 3 sides')\n",
    "    \n",
    "class Quadrilateral(Polygon):\n",
    "    def noofsides(self):\n",
    "        print('Quadrilateral have 4 sides')\n",
    "    \n",
    "class Pentagon(Polygon):\n",
    "    def noofsides(self):\n",
    "        print('Pentagon have 5 sides')\n",
    "    \n",
    "class Hexagon(Polygon):\n",
    "    def noofsides(self):\n",
    "        print('Hexagon have 6 sides')\n",
    "    \n",
    "T=Triangle()\n",
    "T.noofsides()\n",
    "\n",
    "Q=Quadrilateral()\n",
    "Q.noofsides()\n",
    "\n",
    "P=Pentagon()\n",
    "P.noofsides()\n",
    "\n",
    "H=Hexagon()\n",
    "H.noofsides()"
   ]
  },
  {
   "cell_type": "code",
   "execution_count": 23,
   "id": "2fa6b832",
   "metadata": {},
   "outputs": [
    {
     "name": "stdout",
     "output_type": "stream",
     "text": [
      "Name: Karan\n",
      "Salary: 150000\n",
      "Department: Data Scientist\n"
     ]
    }
   ],
   "source": [
    "class Employee:\n",
    "    def __init__(self, name, salary):\n",
    "        self.name=name\n",
    "        self.salary=salary\n",
    "    \n",
    "    def display(self):\n",
    "        print('Name:', self.name)\n",
    "        print('Salary:', self.salary)\n",
    "    \n",
    "class Manager(Employee):\n",
    "    def __init__(self, name, salary, department):\n",
    "        super().__init__(name, salary)\n",
    "        self.department=department\n",
    "    \n",
    "    def display(self):\n",
    "        super().display()\n",
    "        print('Department:', self.department)\n",
    "        \n",
    "a=Manager('Karan', 150000, 'Data Scientist')\n",
    "a.display()"
   ]
  },
  {
   "cell_type": "code",
   "execution_count": 24,
   "id": "68547767",
   "metadata": {},
   "outputs": [],
   "source": [
    "#Discuss the concept of method overloading in Python inheritance. How does it differ from method overriding?\n",
    "#In the process of method overloading, all the functions or methods must contain the same name with varied signatures.\n",
    "#In the process of method overriding, all the functions or methods must possess the very same name along with similar signatures\n",
    "#Method Overloading-more than one method of the same class shares the same method name having different signatures."
   ]
  },
  {
   "cell_type": "code",
   "execution_count": 25,
   "id": "88ba8a57",
   "metadata": {},
   "outputs": [],
   "source": [
    "#Explain the purpose of the `__init__()` method in Python inheritance and how it is utilized in child classes.\n",
    "#__init__ method in Python is used to initialize objects of a class. It is also called a constructor.\n",
    "#The __init__ method of the parent or the base class is called within the __init__ method of the child or sub class.\n",
    "#In case the parent class demands an argument, the parameter value must be passed in the __init__ method of the child class\n",
    "#as well as at the time of object creation for the child class."
   ]
  },
  {
   "cell_type": "code",
   "execution_count": 26,
   "id": "853b31a5",
   "metadata": {},
   "outputs": [
    {
     "name": "stdout",
     "output_type": "stream",
     "text": [
      "Which Birds can fly\n",
      "Eagle can fly\n",
      "Sparrow can fly\n"
     ]
    }
   ],
   "source": [
    "#Create a Python class called `Bird` with a method `fly()`. Then, create child classes `Eagle` and `Sparrow` that inherit\n",
    "#from `Bird` and implement the `fly()` method differently. Provide an example of using these classes\n",
    "\n",
    "class Bird:\n",
    "    def fly(self):\n",
    "        print('Which Birds can fly')\n",
    "        \n",
    "class Eagle(Bird):\n",
    "    def fly(self):\n",
    "        print('Eagle can fly')\n",
    "    \n",
    "class Sparrow(Bird):\n",
    "    def fly(self):\n",
    "        print('Sparrow can fly')\n",
    "    \n",
    "brd=Bird()\n",
    "egl=Eagle()\n",
    "spr=Sparrow()\n",
    "\n",
    "brd.fly()\n",
    "egl.fly()\n",
    "spr.fly()"
   ]
  },
  {
   "cell_type": "code",
   "execution_count": 1,
   "id": "7e1b0d1f",
   "metadata": {},
   "outputs": [],
   "source": [
    "#What is the \"diamond problem\" in multiple inheritance, and how does Python address it?\n",
    "#The Diamond Problem is a classic issue that can occur in languages that support multiple inheritance, including Python.\n",
    "#It arises when a class inherits from two or more classes that have a common ancestor."
   ]
  },
  {
   "cell_type": "code",
   "execution_count": 2,
   "id": "1e53b3e2",
   "metadata": {},
   "outputs": [],
   "source": [
    "# Discuss the concept of \"is-a\" and \"has-a\" relationships in inheritance, and provide examples of each.\n",
    "#Inheritance models what’s called an \"is-a\" relationship.\n",
    "#This means that when you have a Derived class that inherits from a Base class, you’ve created a relationship where\n",
    "#Derived is a specialized version of Base.\n",
    "#Ex- you have the base class Animal, and you derive from it to create a Horse class.\n",
    "#The inheritance relationship states that Horse is an Animal.This means that Horse inherits the interface and implementation\n",
    "#of Animal, and you can use Horse objects to replace Animal objects in the application."
   ]
  },
  {
   "cell_type": "code",
   "execution_count": 3,
   "id": "afac9349",
   "metadata": {},
   "outputs": [],
   "source": [
    "#Composition is a concept that models a \"has-a\" relationship.\n",
    "#This means that a class Composite can contain an object of another class Component.\n",
    "#This relationship means that a Composite has a Component.\n",
    "#For example, your Horse class can be composed by another object of type Tail.\n",
    "#Composition allows you to express that relationship by saying Horse \"has a\" Tail."
   ]
  },
  {
   "cell_type": "code",
   "execution_count": 4,
   "id": "853ae712",
   "metadata": {},
   "outputs": [
    {
     "name": "stdout",
     "output_type": "stream",
     "text": [
      "Professor name is: Ram Singh\n",
      "Professor age is: 42\n",
      "Professor department is: IT Coding\n",
      "Student name is: Shyam Singh\n",
      "Student age is: 19\n",
      "Student course is: Front-end\n"
     ]
    }
   ],
   "source": [
    "#Create a Python class hierarchy for a university system. Start with a base class `Person` and create child classes `Student`\n",
    "#and `Professor`, each with their own attributes and methods. Provide an example of using these classes in a university context\n",
    "\n",
    "class Person:\n",
    "    def __init__(self, name, age):\n",
    "        self.name=name\n",
    "        self.age=age\n",
    "    \n",
    "class Student(Person):\n",
    "    def __init__(self, name, age, course):\n",
    "        Person.__init__(self, name, age)\n",
    "        self.course=course\n",
    "    \n",
    "    def display(self):\n",
    "        print('Student name is:', self.name)\n",
    "        print('Student age is:', self.age)\n",
    "        print('Student course is:',self.course)\n",
    "    \n",
    "class Professor(Person):\n",
    "    def __init__(self, name, age, department):\n",
    "        Person.__init__(self, name, age)\n",
    "        self.department=department\n",
    "    \n",
    "    def display(self):\n",
    "        print('Professor name is:', self.name)\n",
    "        print('Professor age is:', self.age)\n",
    "        print('Professor department is:',self.department)\n",
    "\n",
    "p=Professor('Ram Singh', 42, 'IT Coding')\n",
    "p.display()\n",
    "s=Student('Shyam Singh', 19, 'Front-end')\n",
    "s.display()"
   ]
  },
  {
   "cell_type": "code",
   "execution_count": 5,
   "id": "f536fd2c",
   "metadata": {},
   "outputs": [],
   "source": [
    "#Explain the concept of encapsulation in Python. What is its role in object-oriented programming?\n",
    "#The process of wrapping up variables and methods into a single entity is known as Encapsulation.\n",
    "#It is one of the underlying concepts in object-oriented programming (OOP).\n",
    "#It acts as a protective shield that puts restrictions on accessing variables and methods directly\n",
    "#and can prevent accidental or unauthorized modification of data.\n",
    "#Encapsulation also makes objects into more self-sufficient, independently functioning pieces.\n",
    "#Encapsulation - This principle of OOP involves bundling the data (attributes) and methods (functions) that operate on the data\n",
    "#into a single unit or class and restricting access to the inner workings of that class (implementation hiding)."
   ]
  },
  {
   "cell_type": "code",
   "execution_count": 1,
   "id": "3cde59f3",
   "metadata": {},
   "outputs": [],
   "source": [
    "#Describe the key principles of encapsulation, including access control and data hiding.\n",
    "#Encapsulation is a way to restrict the direct access to some components of an object, so users cannot access state values\n",
    "#for all of the variables of a particular object.\n",
    "#Encapsulation can be used to hide both data members and data functions or methods associated with an instantiated class or object."
   ]
  },
  {
   "cell_type": "code",
   "execution_count": 5,
   "id": "d3a3cc2d",
   "metadata": {},
   "outputs": [
    {
     "name": "stdout",
     "output_type": "stream",
     "text": [
      "Generic Animal\n",
      "Tommy makes a bark sound.\n"
     ]
    }
   ],
   "source": [
    "#How can you achieve encapsulation in Python classes? Provide an example.\n",
    "class Animal:\n",
    "    def __init__(self, name):\n",
    "        self._name=name\n",
    "    \n",
    "    def _make_sound(self, sound):\n",
    "        print(f\"{self._name} makes a {sound} sound.\")\n",
    "    \n",
    "class Dog(Animal):\n",
    "    def bark(self):\n",
    "        self._make_sound('bark')\n",
    "    \n",
    "a=Animal('Generic Animal')\n",
    "d=Dog('Tommy')\n",
    "\n",
    "print(a._name)\n",
    "d.bark()"
   ]
  },
  {
   "cell_type": "code",
   "execution_count": 6,
   "id": "1ae68bab",
   "metadata": {},
   "outputs": [
    {
     "name": "stdout",
     "output_type": "stream",
     "text": [
      "Name of the Student is:  Karan\n",
      "Age of the Student is: 20\n"
     ]
    }
   ],
   "source": [
    "#Discuss the difference between public, private, and protected access modifiers in Python.\n",
    "#Public access modifiers- The members of a class that are declared public are easily accessible from any part of the program.\n",
    "#All data members and member functions of a class are public by default.\n",
    "\n",
    "class Student:\n",
    "    def __init__(self, name, age):\n",
    "        self.name=name\n",
    "        self.age=age\n",
    "    \n",
    "    def display(self):\n",
    "        print('Name of the Student is: ', self.name)\n",
    "        print('Age of the Student is:', self.age)\n",
    "    \n",
    "s=Student('Karan', 20)\n",
    "s.display()"
   ]
  },
  {
   "cell_type": "code",
   "execution_count": 12,
   "id": "599773a4",
   "metadata": {},
   "outputs": [
    {
     "name": "stdout",
     "output_type": "stream",
     "text": [
      "Name is: Karan\n",
      "Roll no is: 304\n",
      "Branch is: Data Science\n"
     ]
    }
   ],
   "source": [
    "#protected access modifiers:-\n",
    "#The members of a class that are declared protected are only accessible to a class derived from it.\n",
    "#Data members of a class are declared protected by adding a single underscore ‘_’ symbol before the data member of that class.\n",
    "\n",
    "class Course:\n",
    "    #protected data members\n",
    "    _name=None\n",
    "    _rollno=None\n",
    "    _branch=None\n",
    "    \n",
    "    def __init__(self, name, rollno, branch):\n",
    "        self._name=name\n",
    "        self._rollno=rollno\n",
    "        self._branch=branch\n",
    "    \n",
    "    #protected member function\n",
    "    def _displayrollbranch(self):\n",
    "        print('Roll no is:', self._rollno)\n",
    "        print('Branch is:', self._branch)\n",
    "    \n",
    "class Student(Course):\n",
    "    def __init__(self, name, rollno, branch):\n",
    "        Course.__init__(self, name, rollno, branch)\n",
    "    \n",
    "    #public member function\n",
    "    def displaydetails(self):\n",
    "        #accessing protected data members of super class\n",
    "        print('Name is:', self._name)\n",
    "        #accessing protected member functions of super class \n",
    "        self._displayrollbranch()\n",
    "    \n",
    "a=Student('Karan', 304, 'Data Science')\n",
    "a.displaydetails()"
   ]
  },
  {
   "cell_type": "code",
   "execution_count": 13,
   "id": "3204922d",
   "metadata": {},
   "outputs": [
    {
     "name": "stdout",
     "output_type": "stream",
     "text": [
      "Name is: Karan\n",
      "Roll no is: 20\n",
      "Branch is: DS\n"
     ]
    }
   ],
   "source": [
    "#private access modifiers:-\n",
    "#The members of a class that are declared private are accessible within the class only, private access modifier is the\n",
    "#most secure access modifier.\n",
    "#Data members of a class are declared private by adding a double underscore ‘__’ symbol before the data member of that class.\n",
    "\n",
    "class Student:\n",
    "    #private data members\n",
    "    __name=None\n",
    "    __rollno=None\n",
    "    __branch=None\n",
    "    \n",
    "    def __init__(self, name, rollno, branch):\n",
    "        self.__name=name\n",
    "        self.__rollno=rollno\n",
    "        self.__branch=branch\n",
    "    \n",
    "    #private member function\n",
    "    def __displaydetails(self):\n",
    "        #accessing private data members\n",
    "        print('Name is:', self.__name)\n",
    "        print('Roll no is:', self.__rollno)\n",
    "        print('Branch is:', self.__branch)\n",
    "    \n",
    "    #public member function\n",
    "    def acessPrivatefunc(self):\n",
    "        \n",
    "        #acessing private member function\n",
    "        self.__displaydetails()\n",
    "    \n",
    "s=Student(\"Karan\", 20, 'DS')\n",
    "s.acessPrivatefunc()"
   ]
  },
  {
   "cell_type": "code",
   "execution_count": 14,
   "id": "5f2ca975",
   "metadata": {},
   "outputs": [
    {
     "name": "stdout",
     "output_type": "stream",
     "text": [
      "The name of the person is: Karan\n"
     ]
    }
   ],
   "source": [
    "#Create a Python class called `Person` with a private attribute `__name`. Provide methods to get and set the name attribute.\n",
    "class Person:\n",
    "    __name='Karan'\n",
    "    \n",
    "    def printname(self):\n",
    "        print(f\"The name of the person is: {self.__name}\")\n",
    "    \n",
    "p=Person()\n",
    "p.printname()"
   ]
  },
  {
   "cell_type": "code",
   "execution_count": 15,
   "id": "7ff10a1c",
   "metadata": {},
   "outputs": [],
   "source": [
    "#Explain the purpose of getter and setter methods in encapsulation. Provide examples.\n",
    "#Getter and setter methods are used in Python to achieve encapsulation.\n",
    "#They control the access to the private and protected variables in Python.\n",
    "#Also, they can be used in data hiding by hiding the implementation details of a class from external users"
   ]
  },
  {
   "cell_type": "code",
   "execution_count": 19,
   "id": "df2faaf5",
   "metadata": {},
   "outputs": [
    {
     "name": "stdout",
     "output_type": "stream",
     "text": [
      "0\n"
     ]
    },
    {
     "ename": "AttributeError",
     "evalue": "'graduated' object has no attribute 'set_year'",
     "output_type": "error",
     "traceback": [
      "\u001b[1;31m---------------------------------------------------------------------------\u001b[0m",
      "\u001b[1;31mAttributeError\u001b[0m                            Traceback (most recent call last)",
      "Cell \u001b[1;32mIn[19], line 15\u001b[0m\n\u001b[0;32m     13\u001b[0m grad_obj\u001b[38;5;241m=\u001b[39mgraduated()\n\u001b[0;32m     14\u001b[0m \u001b[38;5;28mprint\u001b[39m(grad_obj\u001b[38;5;241m.\u001b[39mget_year())\n\u001b[1;32m---> 15\u001b[0m grad_obj\u001b[38;5;241m.\u001b[39mset_year(\u001b[38;5;241m2012\u001b[39m)\n\u001b[0;32m     16\u001b[0m \u001b[38;5;28mprint\u001b[39m(grad_obj\u001b[38;5;241m.\u001b[39m_year)\n",
      "\u001b[1;31mAttributeError\u001b[0m: 'graduated' object has no attribute 'set_year'"
     ]
    }
   ],
   "source": [
    "#Now we will make a class, initialize is and then add a getter and setter method to each of them.\n",
    "\n",
    "class graduated:\n",
    "    def __init__(self, year=0):\n",
    "        self._year=year\n",
    "    \n",
    "    def get_year(self):\n",
    "        return self._year\n",
    "\n",
    "def set_year(self,a):\n",
    "    self._year=a\n",
    "\n",
    "grad_obj=graduated()\n",
    "print(grad_obj.get_year())\n",
    "grad_obj.set_year(2012)\n",
    "print(grad_obj._year)"
   ]
  },
  {
   "cell_type": "code",
   "execution_count": 20,
   "id": "b30fd73e",
   "metadata": {},
   "outputs": [],
   "source": [
    "#What is name mangling in Python, and how does it affect encapsulation?\n",
    "#In name mangling process any identifier with two leading underscore and one trailing underscore is textually replaced\n",
    "#with _classname__identifier where classname is the name of the current class."
   ]
  },
  {
   "cell_type": "code",
   "execution_count": 2,
   "id": "45d50c9b",
   "metadata": {},
   "outputs": [],
   "source": [
    "# Create a Python class called `BankAccount` with private attributes for the account balance (`__balance`) and account number (`__account_number`). Provide methods for depositing and withdrawing money.\n",
    "\n",
    "class BankAccount:\n",
    "\n",
    "    def __init__(self, account_number, initial_bal=0):\n",
    "        self.__account_number = account_number\n",
    "        self.__balance=initial_bal\n",
    "    \n",
    "    def deposit(self, amount):\n",
    "        if amount>0:\n",
    "            self.__balance+=amount\n",
    "            \n",
    "    def withdrawl(self, amount):\n",
    "        if 0<amount<=self.__balance:\n",
    "            self.__balance-=amount\n",
    "    \n",
    "    def get_bal(self):\n",
    "        return self.__balance"
   ]
  },
  {
   "cell_type": "code",
   "execution_count": 1,
   "id": "93a9fdb1",
   "metadata": {},
   "outputs": [],
   "source": [
    "#Discuss the advantages of encapsulation in terms of code maintainability and security.\n",
    "#Encapsulation in programming is used to improve code maintainability, security, and flexibility.\n",
    "#It enables the bundling of data and methods that operate on that data within\n",
    "#a single unit (i.e., a class or object), making it easier to manage and understand."
   ]
  },
  {
   "cell_type": "code",
   "execution_count": 4,
   "id": "f57e5412",
   "metadata": {},
   "outputs": [
    {
     "name": "stdout",
     "output_type": "stream",
     "text": [
      "Karan\n"
     ]
    }
   ],
   "source": [
    "# How can you access private attributes in Python? Provide an example demonstrating the use of name mangling.\n",
    "class student:\n",
    "    def __init__(self, name):\n",
    "        self.__name=name\n",
    "s=student('Karan')\n",
    "print(s._student__name)"
   ]
  },
  {
   "cell_type": "code",
   "execution_count": null,
   "id": "a450f264",
   "metadata": {},
   "outputs": [],
   "source": []
  },
  {
   "cell_type": "code",
   "execution_count": 3,
   "id": "80ed7083",
   "metadata": {},
   "outputs": [
    {
     "name": "stdout",
     "output_type": "stream",
     "text": [
      "Student name is: Karan\n",
      "Student rollno is: 25\n",
      "Student course is: Data Science\n",
      "Teacher name is Sudh\n",
      "Teacher department is Data Science\n",
      "Teacher course is Python\n",
      "Course name is: Python Programming\n",
      "Teacher of this course is: Sudh\n"
     ]
    }
   ],
   "source": [
    "class School:\n",
    "    def __init__(self, name, rollno, course):\n",
    "        self.name=name\n",
    "        self.rollno=rollno\n",
    "        self.course=course\n",
    "    \n",
    "class Student(School):\n",
    "    def displaystud(self):\n",
    "        print('Student name is:', self.name)\n",
    "        print('Student rollno is:', self.rollno)\n",
    "        print('Student course is:', self.course)\n",
    "    \n",
    "class Teacher(School):\n",
    "    def __init__(self, name, rollno, course, department):\n",
    "        super().__init__(name, rollno, course)\n",
    "        self.department=department\n",
    "    def displayteach(self):\n",
    "        print('Teacher name is', self.name)\n",
    "        print('Teacher department is', self.department)\n",
    "        print('Teacher course is', self.course)\n",
    "    \n",
    "class Course:\n",
    "    def __init__(self, course_name, teacher):\n",
    "        self.course_name=course_name\n",
    "        self.teacher=teacher\n",
    "    def displaycourse(self):\n",
    "        print('Course name is:', self.course_name)\n",
    "        print('Teacher of this course is:', self.teacher)\n",
    "    \n",
    "s=Student('Karan',25, \"Data Science\")\n",
    "s.displaystud()\n",
    "t=Teacher('Sudh', 101, 'Python', 'Data Science')\n",
    "t.displayteach()\n",
    "c=Course('Python Programming', t.name)\n",
    "c.displaycourse()"
   ]
  },
  {
   "cell_type": "code",
   "execution_count": 11,
   "id": "aa48654e",
   "metadata": {},
   "outputs": [],
   "source": [
    "#Explain the concept of property decorators in Python and how they relate to encapsulation.\n",
    "#The @property decorator transforms a method into a \"getter\" for a property, making it easy to access the encapsulated data.\n",
    "#For example, consider a Temperature class that stores temperature in Celsius.\n",
    "#We want to provide a way to access the temperature in Fahrenheit without exposing the internal representation."
   ]
  },
  {
   "cell_type": "code",
   "execution_count": 13,
   "id": "20f41aa0",
   "metadata": {},
   "outputs": [],
   "source": [
    "# What is data hiding, and why is it important in encapsulation? Provide examples.\n",
    "#In python Data hiding, also called \"data encapsulation,\" keeps the user from seeing how certain parts of a service work.\n",
    "#Data hiding groups class members together, making it harder to get direct access to the class members.\n",
    "#Data hiding is essential to making an app more safe and reliable."
   ]
  },
  {
   "cell_type": "code",
   "execution_count": 5,
   "id": "7932ad11",
   "metadata": {},
   "outputs": [
    {
     "name": "stdout",
     "output_type": "stream",
     "text": [
      "50000\n"
     ]
    }
   ],
   "source": [
    "class Employee:\n",
    "    def __init__(self, salary):\n",
    "        self.__salary = salary\n",
    "\n",
    "    def get_salary(self):\n",
    "        return self.__salary\n",
    "\n",
    "    def set_salary(self, salary):\n",
    "        if salary >= 0:\n",
    "            self.__salary = salary\n",
    "\n",
    "employee = Employee(50000)\n",
    "print(employee.get_salary())"
   ]
  },
  {
   "cell_type": "code",
   "execution_count": 7,
   "id": "140fc76f",
   "metadata": {},
   "outputs": [
    {
     "name": "stdout",
     "output_type": "stream",
     "text": [
      "Yearly bonus for employeeG1478: Rs5000.00\n",
      "Yearly bonus for employeeG1478: Rs0.00\n"
     ]
    }
   ],
   "source": [
    "# Create a Python class called `Employee` with private attributes for salary (`__salary`) and employee ID (`__employee_id`).\n",
    "#Provide a method to calculate yearly bonuses.\n",
    "\n",
    "class Employee:\n",
    "    def __init__(self, empid, salary):\n",
    "        self.__empid=empid\n",
    "        self.__salary=salary\n",
    "        \n",
    "    def year_bonus(self, bonus_per):\n",
    "        if bonus_per>0:\n",
    "            return self.__salary*bonus_per/100\n",
    "        return 0\n",
    "    \n",
    "emp1=Employee('G1478',50000)\n",
    "bonus_per=10\n",
    "yearly_bonus=emp1.year_bonus(bonus_per)\n",
    "print(f'Yearly bonus for employee{emp1._Employee__empid}: Rs{yearly_bonus:.2f}')\n",
    "bonus_per=0\n",
    "yearly_bonus=emp1.year_bonus(bonus_per)\n",
    "print(f'Yearly bonus for employee{emp1._Employee__empid}: Rs{yearly_bonus:.2f}')"
   ]
  },
  {
   "cell_type": "code",
   "execution_count": 8,
   "id": "662d52dd",
   "metadata": {},
   "outputs": [],
   "source": [
    "#Discuss the use of accessors and mutators in encapsulation. How do they help maintain control over attribute access?\n",
    "#Accessors (getter methods) and mutators (setter methods) are used in encapsulation to control attribute access.\n",
    "#Accessors provide read-only access to attribute values and mutators provide a way to modify attribute values\n",
    "#while encapsulating the internal representation. They help maintain control over attribute access by allowing validation,\n",
    "#calculations, or other operations when accessing or modifying an attribute's value."
   ]
  },
  {
   "cell_type": "code",
   "execution_count": 9,
   "id": "a544cc0f",
   "metadata": {},
   "outputs": [],
   "source": [
    "#What are the potential drawbacks or disadvantages of using encapsulation in Python?\n",
    "#1-Complexity: Encapsulation may add complexity to the code, especially when many attributes need getter and setter methods.\n",
    "#2-Overhead: Using methods for attribute access can introduce some performance overhead compared to direct access.\n",
    "#3-Learning Curve: It may take some time for developers to understand and adopt encapsulation practices effectively."
   ]
  },
  {
   "cell_type": "code",
   "execution_count": 12,
   "id": "19203c0c",
   "metadata": {},
   "outputs": [
    {
     "name": "stdout",
     "output_type": "stream",
     "text": [
      "Book1(Python Programming by John Smith) is available:True\n",
      "Book1(Python Programming by John Smith) is available after borrowing: False\n",
      "Book1 (Python Programming by John Smith) is available after returning: True\n",
      "Book2 (Data Science by Alice John) is available: True\n"
     ]
    }
   ],
   "source": [
    "#Create a Python class for a library system that encapsulates book information, including titles, authors & availability status\n",
    "\n",
    "class Book:\n",
    "    def __init__(self, title, author, is_available=True):\n",
    "        self.__title=title\n",
    "        self.__author=author\n",
    "        self.__is_available=is_available\n",
    "    \n",
    "    def get_title(self):\n",
    "        return self.__title\n",
    "    \n",
    "    def get_author(self):\n",
    "        return self.__author\n",
    "    \n",
    "    def is_available(self):\n",
    "        return self.__is_available\n",
    "    \n",
    "    def borrow_book(self):\n",
    "        if self.__is_available:\n",
    "            self.__is_available=False\n",
    "        \n",
    "    def return_book(self):\n",
    "        self.__is_available = True\n",
    "    \n",
    "book1=Book('Python Programming', 'John Smith')\n",
    "book2=Book('Data Science', 'Alice John')\n",
    "#checking book availability\n",
    "print(f'Book1({book1.get_title()} by {book1.get_author()}) is available:{book1.is_available()}')\n",
    "#borrowing a book\n",
    "book1.borrow_book()\n",
    "print(f'Book1({book1.get_title()} by {book1.get_author()}) is available after borrowing: {book1.is_available()}')\n",
    "#returning a book\n",
    "book1.return_book()\n",
    "print(f'Book1 ({book1.get_title()} by {book1.get_author()}) is available after returning: {book1.is_available()}')\n",
    "print(f'Book2 ({book2.get_title()} by {book2.get_author()}) is available: {book2.is_available()}')"
   ]
  },
  {
   "cell_type": "code",
   "execution_count": 13,
   "id": "38c3fb1c",
   "metadata": {},
   "outputs": [],
   "source": [
    "#Explain how encapsulation enhances code reusability and modularity in Python programs\n",
    "#Encapsulation enhances code reusability and modularity by creating self-contained classes with well-defined interfaces.\n",
    "#This makes it easier to reuse and maintain code since the internal details of a class are hidden, and the class can be treated\n",
    "#as a black box with specific inputs and outputs. Encapsulated classes can be used without knowledge of their\n",
    "#internal workings, promoting modularity and preventing unintended interference with their implementation."
   ]
  },
  {
   "cell_type": "code",
   "execution_count": 14,
   "id": "56be774b",
   "metadata": {},
   "outputs": [],
   "source": [
    "#Describe the concept of information hiding in encapsulation. Why is it essential in software development?\n",
    "#Information hiding is essential in software development because it restricts the exposure of an object's internal details and\n",
    "#focuses on providing a well-defined interface. This separation of concerns allows for easier maintenance, debugging, and\n",
    "#future changes without affecting other parts of the code.\n",
    "#Information hiding helps prevent unintended consequences of direct data manipulation and enforces data integrity."
   ]
  },
  {
   "cell_type": "code",
   "execution_count": 17,
   "id": "65b4e4c6",
   "metadata": {},
   "outputs": [
    {
     "name": "stdout",
     "output_type": "stream",
     "text": [
      "Customer name is: Karan\n",
      "Customer address is: Ghaziabad\n",
      "Customer contact number is: 1590\n"
     ]
    }
   ],
   "source": [
    "#Create a Python class called `Customer` with private attributes for customer details like name, address, and \n",
    "#contact information. Implement encapsulation to ensure data integrity and security\n",
    "class Customer:\n",
    "    def __init__(self, name, address, contact):\n",
    "        self.__name=name\n",
    "        self.__address=address\n",
    "        self.__contact=contact\n",
    "    \n",
    "    def get_name(self):\n",
    "        return self.__name\n",
    "    \n",
    "    def get_address(self):\n",
    "        return self.__address\n",
    "    \n",
    "    def get_contact(self):\n",
    "        return self.__contact\n",
    "\n",
    "cust1=Customer('Karan', 'Ghaziabad', 1590)\n",
    "print('Customer name is:', cust1.get_name())\n",
    "print('Customer address is:', cust1.get_address())\n",
    "print('Customer contact number is:', cust1.get_contact())"
   ]
  },
  {
   "cell_type": "code",
   "execution_count": 1,
   "id": "26b17ce1",
   "metadata": {},
   "outputs": [],
   "source": [
    "#What is polymorphism in Python? Explain how it is related to object-oriented programming.\n",
    "#Polymorphism means the same function name is being used for different types.\n",
    "#Each function is differentiated based on its data type and number of arguments.\n",
    "#So, each function has a different signature. This allows developers to write clean, readable, and resilient codes.\n",
    "#It enables a single interface to represent different data types or objects, providing a way to perform operations\n",
    "#on these objects without knowing their specific types."
   ]
  },
  {
   "cell_type": "code",
   "execution_count": 1,
   "id": "4f8119d7",
   "metadata": {},
   "outputs": [],
   "source": [
    "#Describe the difference between compile-time polymorphism and runtime polymorphism in Python.\n",
    "#Compile-time polymorphism, also known as method overloading, occurs at compile time when there are multiple methods\n",
    "#with the same name but different parameter lists in a class.\n",
    "#Runtime polymorphism, also known as method overriding, occurs at runtime when a subclass provides a specific\n",
    "#implementation of a method that is already defined in its superclass."
   ]
  },
  {
   "cell_type": "code",
   "execution_count": 3,
   "id": "8c955ff6",
   "metadata": {},
   "outputs": [
    {
     "name": "stdout",
     "output_type": "stream",
     "text": [
      "Area of the Circle is: 200.96\n",
      "Area of the Square is: 16\n",
      "Area of Triangle is: 6.0\n"
     ]
    }
   ],
   "source": [
    "#Create a Python class hierarchy for shapes (e.g., circle, square, triangle) and demonstrate polymorphism\n",
    "#through a common method, such as `calculate_area()\n",
    "\n",
    "class Shape:\n",
    "    def calculate_area(self):\n",
    "        pass\n",
    "\n",
    "class Circle(Shape):\n",
    "    def __init__(self, radius):\n",
    "        self.radius=radius\n",
    "\n",
    "    def calculate_area(self):\n",
    "        return 3.14* self.radius**2\n",
    "    \n",
    "class Square(Shape):\n",
    "    def __init__(self, length):\n",
    "        self.length=length\n",
    "    \n",
    "    def calculate_area(self):\n",
    "        return self.length**2\n",
    "\n",
    "class Triangle(Shape):\n",
    "    def __init__(self, base, height):\n",
    "        self.base=base\n",
    "        self.height=height\n",
    "    \n",
    "    def calculate_area(self):\n",
    "        return 0.5*self.base*self.height\n",
    "    \n",
    "c=Circle(8)\n",
    "s=Square(4)\n",
    "t=Triangle(3,4)\n",
    "\n",
    "print(f'Area of the Circle is: {c.calculate_area():.2f}')\n",
    "print(f'Area of the Square is: {s.calculate_area()}')\n",
    "print(f'Area of Triangle is: {t.calculate_area()}')"
   ]
  },
  {
   "cell_type": "code",
   "execution_count": 4,
   "id": "faea26bd",
   "metadata": {},
   "outputs": [
    {
     "name": "stdout",
     "output_type": "stream",
     "text": [
      "This is from Parent class\n",
      "This is from Child class\n"
     ]
    }
   ],
   "source": [
    "#Explain the concept of method overriding in polymorphism. Provide an example.\n",
    "#When a method in a subclass has the same name, same parameters or signature and same return type(or sub-type) as a method\n",
    "#in its super-class, then the method in the subclass is said to override the method in the super-class.\n",
    "\n",
    "class Parent:\n",
    "    def __init__(self):\n",
    "        self.value='This is from Parent class'\n",
    "    \n",
    "    def show(self):\n",
    "        print(self.value)\n",
    "        \n",
    "class Child:\n",
    "    def __init__(self):\n",
    "        self.value='This is from Child class'\n",
    "    \n",
    "    def show(self):\n",
    "        print(self.value)\n",
    "    \n",
    "o1=Parent()\n",
    "o2=Child()\n",
    "o1.show()\n",
    "o2.show()"
   ]
  },
  {
   "cell_type": "code",
   "execution_count": 5,
   "id": "b431c131",
   "metadata": {},
   "outputs": [],
   "source": [
    "#How is polymorphism different from method overloading in Python? Provide examples for both\n",
    "#Method Overloading is an example of Compile time polymorphism. In this, more than one method of the same class shares the\n",
    "#same method name having different signatures. Method overloading is used to add more to the behavior of methods and\n",
    "#there is no need of more than one class for method overloading."
   ]
  },
  {
   "cell_type": "code",
   "execution_count": 6,
   "id": "65918b20",
   "metadata": {},
   "outputs": [
    {
     "name": "stdout",
     "output_type": "stream",
     "text": [
      "Bark\n",
      "Meow\n",
      "Tweet\n"
     ]
    }
   ],
   "source": [
    "#Create a Python class called `Animal` with a method `speak()`.\n",
    "class Animal:\n",
    "    def speak(self):\n",
    "        pass\n",
    "\n",
    "class Dog(Animal):\n",
    "    def speak(self):\n",
    "        return 'Bark'\n",
    "    \n",
    "class Cat(Animal):\n",
    "    def speak(self):\n",
    "        return 'Meow'\n",
    "\n",
    "class Bird(Animal):\n",
    "    def speak(self):\n",
    "        return 'Tweet'\n",
    "    \n",
    "a=[Dog(),Cat(),Bird()]\n",
    "for an in a:\n",
    "    print(an.speak())"
   ]
  },
  {
   "cell_type": "code",
   "execution_count": 8,
   "id": "30d0367a",
   "metadata": {},
   "outputs": [
    {
     "name": "stdout",
     "output_type": "stream",
     "text": [
      "Triangle have 3 sides\n",
      "Pentagon have 5 sides\n",
      "Hexagon have 6 sides\n",
      "Octagon have 8 sides\n"
     ]
    }
   ],
   "source": [
    "#Discuss the use of abstract methods and classes in achieving polymorphism in Python. Provide an example using the `abc` module\n",
    "#Abstract methods and classes in Python, often used with the abc (Abstract Base Classes) module, allow you to define\n",
    "#a common interface with abstract methods that must be implemented by concrete subclasses.\n",
    "#This enforces polymorphism by ensuring that different subclasses provide their specific implementations of the required methods\n",
    "\n",
    "from abc import ABC, abstractmethod\n",
    "\n",
    "class Polygon:\n",
    "    @abstractmethod\n",
    "    def noofsides(self):\n",
    "        pass\n",
    "    \n",
    "class Triangle(Polygon):\n",
    "    def noofsides(self):\n",
    "        print('Triangle have 3 sides')\n",
    "    \n",
    "class Pentagon(Polygon):\n",
    "    def noofsides(self):\n",
    "        print('Pentagon have 5 sides')\n",
    "    \n",
    "class Hexagon(Polygon):\n",
    "    def noofsides(self):\n",
    "        print('Hexagon have 6 sides')\n",
    "    \n",
    "class Octagon(Polygon):\n",
    "    def noofsides(self):\n",
    "        print('Octagon have 8 sides')\n",
    "    \n",
    "t=Triangle()\n",
    "t.noofsides()\n",
    "p=Pentagon()\n",
    "p.noofsides()\n",
    "h=Hexagon()\n",
    "h.noofsides()\n",
    "o=Octagon()\n",
    "o.noofsides()"
   ]
  },
  {
   "cell_type": "code",
   "execution_count": 10,
   "id": "eb836317",
   "metadata": {},
   "outputs": [
    {
     "name": "stdout",
     "output_type": "stream",
     "text": [
      "Car started\n",
      "Bicycle started\n",
      "Boat Started\n"
     ]
    }
   ],
   "source": [
    "# Create a Python class hierarchy for a vehicle system (e.g., car, bicycle, boat) and implement a polymorphic `start()`\n",
    "#method that prints a message specific to each vehicle type.\n",
    "\n",
    "class Vehicle:\n",
    "    def start(self):\n",
    "        pass\n",
    "    \n",
    "class Car(Vehicle):\n",
    "    def start(self):\n",
    "        return('Car started')\n",
    "        \n",
    "class Bicycle(Vehicle):\n",
    "    def start(self):\n",
    "        return('Bicycle started')\n",
    "    \n",
    "class Boat(Vehicle):\n",
    "    def start(self):\n",
    "        return('Boat Started')\n",
    "    \n",
    "vh=[Car(),Bicycle(),Boat()]\n",
    "for v in vh:\n",
    "    print(v.start())"
   ]
  },
  {
   "cell_type": "code",
   "execution_count": 11,
   "id": "428b1152",
   "metadata": {},
   "outputs": [],
   "source": [
    "#Explain the significance of the `isinstance()` and `issubclass()` functions in Python polymorphism\n",
    "#The function isinstance () checks whether the object that is passed in its parameters is the subclass of the\n",
    "#classinfo mentioned within the parameters.\n",
    "#On the other hand, the Python issubclass () function only checks whether a class is a subclass of a supposed parent class."
   ]
  },
  {
   "cell_type": "code",
   "execution_count": 12,
   "id": "1a37dc0a",
   "metadata": {},
   "outputs": [],
   "source": [
    "#What is the role of the `@abstractmethod` decorator in achieving polymorphism in Python? Provide an example\n",
    "#The abstractmethod decorator is used to declare the method do_something as an abstract method.\n",
    "#This means that any class that inherits from AbstractClassExample must provide an implementation of the do_something method."
   ]
  },
  {
   "cell_type": "code",
   "execution_count": 14,
   "id": "15c0c9ea",
   "metadata": {},
   "outputs": [
    {
     "name": "stdout",
     "output_type": "stream",
     "text": [
      "Area of the Circle is: 200.96\n",
      "Area of the Square is: 24\n",
      "Area of Triangle is: 6.0\n"
     ]
    }
   ],
   "source": [
    "#Create a Python class called `Shape` with a polymorphic method `area()` that calculates\n",
    "#the area of different shapes (e.g., circle, rectangle, triangle)\n",
    "\n",
    "#Create a Python class hierarchy for shapes (e.g., circle, square, triangle) and demonstrate polymorphism\n",
    "#through a common method, such as `calculate_area()\n",
    "\n",
    "class Shape:\n",
    "    def calculate_area(self):\n",
    "        pass\n",
    "\n",
    "class Circle(Shape):\n",
    "    def __init__(self, radius):\n",
    "        self.radius=radius\n",
    "\n",
    "    def calculate_area(self):\n",
    "        return 3.14* self.radius**2\n",
    "    \n",
    "class Rectangle(Shape):\n",
    "    def __init__(self, length, width):\n",
    "        self.length=length\n",
    "        self.width=width\n",
    "    \n",
    "    def calculate_area(self):\n",
    "        return self.length*self.width\n",
    "\n",
    "class Triangle(Shape):\n",
    "    def __init__(self, base, height):\n",
    "        self.base=base\n",
    "        self.height=height\n",
    "    \n",
    "    def calculate_area(self):\n",
    "        return 0.5*self.base*self.height\n",
    "    \n",
    "c=Circle(8)\n",
    "r=Rectangle(4,6)\n",
    "t=Triangle(3,4)\n",
    "\n",
    "print(f'Area of the Circle is: {c.calculate_area():.2f}')\n",
    "print(f'Area of the Square is: {r.calculate_area()}')\n",
    "print(f'Area of Triangle is: {t.calculate_area()}')"
   ]
  },
  {
   "cell_type": "code",
   "execution_count": 1,
   "id": "aab3eb46",
   "metadata": {},
   "outputs": [],
   "source": [
    "#Discuss the benefits of polymorphism in terms of code reusability and flexibility in Python programs.\n",
    "#Using polymorphism in programming brings several benefits.\n",
    "#It promotes code reuse and modularity, as classes can share common behaviors through inheritance.\n",
    "#It enhances flexibility, allowing new subclasses to be added without modifying existing code."
   ]
  },
  {
   "cell_type": "code",
   "execution_count": 2,
   "id": "416f2a9a",
   "metadata": {},
   "outputs": [],
   "source": [
    "#Explain the use of the `super()` function in Python polymorphism. How does it help call methods of parent classes?\n",
    "#The super() function is used to give access to methods and properties of a parent or sibling class.\n",
    "#The super() function returns an object that represents the parent class."
   ]
  },
  {
   "cell_type": "code",
   "execution_count": 4,
   "id": "f8cf032c",
   "metadata": {},
   "outputs": [
    {
     "name": "stdout",
     "output_type": "stream",
     "text": [
      "Withdraw rs300, Remaining balance is: rs700\n",
      "Withdrawl from Savings account\n",
      "Insufficient balance in Check Account, rs500\n",
      "Withdraw rs1200, Remaining balance is: rs800\n",
      "Withdrawl from Credit Card\n"
     ]
    }
   ],
   "source": [
    "#Create a Python class hierarchy for a banking system with various account types (e.g., savings, checking, credit card)\n",
    "#and demonstrate polymorphism by implementing a common withdraw() method.\n",
    "class Account:\n",
    "    def __init__(self, balance):\n",
    "        self.balance=balance\n",
    "    \n",
    "    def withdrawl(self, amount):\n",
    "        if amount<=self.balance:\n",
    "            self.balance-=amount\n",
    "            print(f'Withdraw rs{amount}, Remaining balance is: rs{self.balance}')\n",
    "        else:\n",
    "            print(f'Insufficient balance, {self.balance}')\n",
    "        \n",
    "class Savingaccount(Account):\n",
    "    def withdrawl(self, amount):\n",
    "        if amount<=self.balance:\n",
    "            super().withdrawl(amount)\n",
    "            print('Withdrawl from Savings account')\n",
    "        else:\n",
    "            print(f'Insufficient balance in Savings Account, rs{self.balance}')\n",
    "            \n",
    "class Checkaccount(Account):\n",
    "    def withdrawl(self,amount):\n",
    "        if amount<=self.balance:\n",
    "            super().withdrawl(amount)\n",
    "            print('Withdrawl from Check Account')\n",
    "        else:\n",
    "            print(f'Insufficient balance in Check Account, rs{self.balance}')\n",
    "        \n",
    "class Creditcardacc(Account):\n",
    "    def withdrawl(self, amount):\n",
    "        if amount<=self.balance:\n",
    "            super().withdrawl(amount)\n",
    "            print('Withdrawl from Credit Card')\n",
    "        else:\n",
    "            print(f'Insufficient balance in Credit Card, rs{self.balance}')\n",
    "\n",
    "sa=Savingaccount(1000)\n",
    "ca=Checkaccount(500)\n",
    "cca=Creditcardacc(2000)\n",
    "\n",
    "sa.withdrawl(300)\n",
    "ca.withdrawl(800)\n",
    "cca.withdrawl(1200)"
   ]
  },
  {
   "cell_type": "code",
   "execution_count": 6,
   "id": "a44721bf",
   "metadata": {},
   "outputs": [
    {
     "name": "stdout",
     "output_type": "stream",
     "text": [
      "Addition: 5+16\n",
      "Multiplication is: -57+41\n"
     ]
    }
   ],
   "source": [
    "#Describe the concept of operator overloading in Python and how it relates to polymorphism.\n",
    "#Provide examples using operators like `+` and `*`.\n",
    "class Complexnum:\n",
    "    def __init__(self, real, imaginary):\n",
    "        self.real=real\n",
    "        self.imaginary=imaginary\n",
    "    \n",
    "    def __add__(self, other):\n",
    "        return Complexnum(self.real+other.real, self.imaginary+other.imaginary)\n",
    "    \n",
    "    def __mul__(self, other):\n",
    "        real_part=(self.real*other.real)-(self.imaginary*other.imaginary)\n",
    "        imag_part=(self.real*other.imaginary)+(self.imaginary*other.real)\n",
    "        return Complexnum(real_part, imag_part)\n",
    "\n",
    "complex1=Complexnum(3,7)\n",
    "complex2=Complexnum(2,9)\n",
    "\n",
    "addition= complex1+complex2\n",
    "print(f'Addition: {addition.real}+{addition.imaginary}')\n",
    "multi=complex1*complex2\n",
    "print(f'Multiplication is: {multi.real}+{multi.imaginary}')"
   ]
  },
  {
   "cell_type": "code",
   "execution_count": 1,
   "id": "32958a2c",
   "metadata": {},
   "outputs": [],
   "source": [
    "#What is dynamic polymorphism, and how is it achieved in Python?\n",
    "#Dynamic polymorphism in Python is achieved through method overriding.\n",
    "#It allows you to invoke different implementations of a method depending on the type of object at runtime.\n",
    "#This is done by defining a method with the same name in both the parent and child classes, and\n",
    "#the appropriate method is dynamically chosen based on the actual object type."
   ]
  },
  {
   "cell_type": "code",
   "execution_count": 5,
   "id": "dce519bf",
   "metadata": {},
   "outputs": [
    {
     "name": "stdout",
     "output_type": "stream",
     "text": [
      "Manager salary is: Rs90000\n",
      "Developer salary is: Rs72000\n",
      "Designer salary is: Rs60000\n"
     ]
    }
   ],
   "source": [
    "class Employee:\n",
    "    def calculate_salary(self):\n",
    "        return 0\n",
    "    \n",
    "class Manager(Employee):\n",
    "    def calculate_salary(self):\n",
    "        base_sal=80000\n",
    "        bonus=10000\n",
    "        total_sal=base_sal+bonus\n",
    "        print(f'Manager salary is: Rs{total_sal}')\n",
    "    \n",
    "class Developer(Employee):\n",
    "    def calculate_salary(self):\n",
    "        base_sal=65000\n",
    "        bonus=7000\n",
    "        total_sal=base_sal+bonus\n",
    "        print(f'Developer salary is: Rs{total_sal}')\n",
    "    \n",
    "class Designer(Employee):\n",
    "    def calculate_salary(self):\n",
    "        base_sal=55000\n",
    "        bonus=5000\n",
    "        total_sal=base_sal+bonus\n",
    "        print(f'Designer salary is: Rs{total_sal}')\n",
    "        \n",
    "man=Manager()\n",
    "dev=Developer()\n",
    "des=Designer()\n",
    "\n",
    "man.calculate_salary()\n",
    "dev.calculate_salary()\n",
    "des.calculate_salary()"
   ]
  },
  {
   "cell_type": "code",
   "execution_count": 6,
   "id": "9727c12e",
   "metadata": {},
   "outputs": [],
   "source": [
    "#Discuss the concept of function pointers and how they can be used to achieve polymorphism in Python.\n",
    "#Function pointers are not used in Python in the same way as in some other languages.\n",
    "#Python relies on dynamic typing and doesn't require explicit pointers or references to functions. Polymorphism and method overriding handle method calls without the need for function pointers."
   ]
  },
  {
   "cell_type": "code",
   "execution_count": 7,
   "id": "c47c124f",
   "metadata": {},
   "outputs": [],
   "source": [
    "#Explain the role of interfaces and abstract classes in polymorphism, drawing comparisons between them.\n",
    "#Interfaces and abstract classes play similar roles in achieving polymorphism by defining a common interface that must be\n",
    "#implemented by subclasses. Interfaces in Python are defined using abstract classes with abstract methods.\n",
    "#The difference is that abstract classes can also provide some implementation, while interfaces cannot.\n",
    "#You can choose the appropriate approach based on your design needs."
   ]
  },
  {
   "cell_type": "code",
   "execution_count": 8,
   "id": "b206a0df",
   "metadata": {},
   "outputs": [
    {
     "name": "stdout",
     "output_type": "stream",
     "text": [
      "Lion\n",
      "Lion the mammal is eating\n",
      "Sparrow\n",
      "Sparrow the bird is eating\n",
      "Snake\n",
      "Snake the reptile is eating\n",
      "Lion\n",
      "Lion the mammal is eating\n",
      "Sparrow\n",
      "Sparrow the bird is eating\n",
      "Snake\n",
      "Snake the reptile is eating\n"
     ]
    }
   ],
   "source": [
    "#Create a Python class for a zoo simulation, demonstrating polymorphism with different animal types (e.g., mammals, birds, reptiles)\n",
    "#and their behavior (e.g., eating, sleeping, making sounds)\n",
    "\n",
    "class Animal:\n",
    "    def __init__(self, name):\n",
    "        self.name = name\n",
    "\n",
    "    def eat(self):\n",
    "        pass\n",
    "\n",
    "    def sleep(self):\n",
    "        pass\n",
    "\n",
    "    def make_sound(self):\n",
    "        pass\n",
    "\n",
    "class Mammal(Animal):\n",
    "    def eat(self):\n",
    "        print(f\"{self.name} the mammal is eating\")\n",
    "\n",
    "class Bird(Animal):\n",
    "    def eat(self):\n",
    "        print(f\"{self.name} the bird is eating\")\n",
    "\n",
    "class Reptile(Animal):\n",
    "    def eat(self):\n",
    "        print(f\"{self.name} the reptile is eating\")\n",
    "\n",
    "# Create instances of different animals and demonstrate polymorphism\n",
    "lion = Mammal(\"Lion\")\n",
    "sparrow = Bird(\"Sparrow\")\n",
    "snake = Reptile(\"Snake\")\n",
    "\n",
    "zoo = [lion, sparrow, snake]\n",
    "for animal in zoo:\n",
    "    print(animal.name)\n",
    "    animal.eat()\n",
    "    animal.sleep()\n",
    "    animal.make_sound()\n",
    "\n",
    "# Additional specific implementations for sleeping and making sound\n",
    "class Mammal(Animal):\n",
    "    def eat(self):\n",
    "        print(f\"{self.name} the mammal is eating\")\n",
    "\n",
    "    def sleep(self):\n",
    "        print(f\"{self.name} the mammal is sleeping\")\n",
    "\n",
    "    def make_sound(self):\n",
    "        print(f\"{self.name} the mammal is making a sound\")\n",
    "\n",
    "class Bird(Animal):\n",
    "    def eat(self):\n",
    "        print(f\"{self.name} the bird is eating\")\n",
    "\n",
    "    def sleep(self):\n",
    "        print(f\"{self.name} the bird is sleeping\")\n",
    "\n",
    "    def make_sound(self):\n",
    "        print(f\"{self.name} the bird is making a sound\")\n",
    "\n",
    "class Reptile(Animal):\n",
    "    def eat(self):\n",
    "        print(f\"{self.name} the reptile is eating\")\n",
    "\n",
    "    def sleep(self):\n",
    "        print(f\"{self.name} the reptile is sleeping\")\n",
    "\n",
    "    def make_sound(self):\n",
    "        print(f\"{self.name} the reptile is making a sound\")\n",
    "\n",
    "#Demonstrate polymorphism with the updated methods\n",
    "zoo = [lion, sparrow, snake]\n",
    "for animal in zoo:\n",
    "    print(animal.name)\n",
    "    animal.eat()\n",
    "    animal.sleep()\n",
    "    animal.make_sound()"
   ]
  },
  {
   "cell_type": "code",
   "execution_count": 9,
   "id": "a863c3e3",
   "metadata": {},
   "outputs": [],
   "source": [
    "#What is abstraction in Python, and how does it relate to object-oriented programming?\n",
    "#Abstraction in Python is a fundamental concept in object-oriented programming that allows you to represent complex real-world\n",
    "#entities as simplified models in your code. It involves hiding the complex implementation details of objects and exposing\n",
    "#only the essential characteristics and behaviors. Abstraction helps in managing complexity, making code more\n",
    "#understandable, and promoting a focus on high-level concepts."
   ]
  },
  {
   "cell_type": "code",
   "execution_count": 10,
   "id": "37b892da",
   "metadata": {},
   "outputs": [],
   "source": [
    "#Describe the benefits of abstraction in terms of code organization and complexity reduction.\n",
    "#Benefits:\n",
    "#Code organization: Abstraction allows you to organize your code by separating high-level concepts from implementation details. This makes your code more modular and easier to manage.\n",
    "#Complexity reduction: Abstraction simplifies complex systems by providing a clear interface and hiding unnecessary details. This reduces cognitive load and makes code easier to understand.\n",
    "#Reusability: Abstract classes can be used as templates for creating concrete classes with similar characteristics and behaviors. This promotes code reuse.\n",
    "#Maintenance: Abstraction makes code maintenance easier because changes can be localized to the abstract classes and their subclasses."
   ]
  },
  {
   "cell_type": "code",
   "execution_count": 15,
   "id": "d52df589",
   "metadata": {},
   "outputs": [
    {
     "name": "stdout",
     "output_type": "stream",
     "text": [
      "Area of the Circle is: 50.24\n",
      "Area of the Rectangle is: 48\n"
     ]
    }
   ],
   "source": [
    "#reate a Python class called `Shape` with an abstract method `calculate_area()`.\n",
    "#Then, create child classes (e.g., `Circle`, `Rectangle`) that implement the `calculate_area()` method. Provide an example of using these classes.\n",
    "\n",
    "class Shape:\n",
    "    @abstractmethod\n",
    "    def calculate_area():\n",
    "        pass\n",
    "    \n",
    "class Circe(Shape):\n",
    "    def __init__(self, radius):\n",
    "        self.radius=radius\n",
    "    \n",
    "    def calculate_area(self):\n",
    "        return 3.14*self.radius**2\n",
    "\n",
    "class Rectangle(Shape):\n",
    "    def __init__(self, length, width):\n",
    "        self.length=length\n",
    "        self.width=width\n",
    "    \n",
    "    def calculate_area(self):\n",
    "        return self.length*self.width\n",
    "\n",
    "c=Circe(4)\n",
    "r=Rectangle(6,8)\n",
    "\n",
    "print('Area of the Circle is:', c.calculate_area())\n",
    "print('Area of the Rectangle is:', r.calculate_area())"
   ]
  },
  {
   "cell_type": "code",
   "execution_count": 18,
   "id": "5c22057c",
   "metadata": {},
   "outputs": [],
   "source": [
    "#Explain the concept of abstract classes in Python and how they are defined using the `abc` module. Provide an example\n",
    "#An abstract class is defined by subclassing ABC Python and declaring one or more abstract methods using the\n",
    "#@abstractmethod decorator. code\n",
    "from abc import ABC, abstractmethod\n",
    "class AbstractClass(ABC):\n",
    "    @abstractmethod\n",
    "    def abstract_method(self):\n",
    "        pass"
   ]
  },
  {
   "cell_type": "code",
   "execution_count": null,
   "id": "d9883497",
   "metadata": {},
   "outputs": [],
   "source": [
    "#How do abstract classes differ from regular classes in Python? Discuss their use cases.\n",
    "#Abstract classes differ from regular classes in that they cannot be instantiated. They are intended to be subclassed, and\n",
    "#they may contain abstract methods that have no implementation in the abstract class itself.\n",
    "#Concrete classes are meant to be instantiated and provide implementations for all methods, including abstract methods."
   ]
  },
  {
   "cell_type": "code",
   "execution_count": 2,
   "id": "3fef5d65",
   "metadata": {},
   "outputs": [
    {
     "name": "stdout",
     "output_type": "stream",
     "text": [
      "Account 1234: Balance after deposit: Rs1000\n",
      "Account 1234: Balance after withdrawl: Rs200\n",
      "Insufficient balance\n"
     ]
    }
   ],
   "source": [
    "#Create a Python class for a bank account and demonstrate abstraction by hiding the account balance and providing methods \n",
    "#to deposit and withdraw funds\n",
    "from abc import ABC, abstractmethod\n",
    "\n",
    "class Bankacc(ABC):\n",
    "    def __init__(self, account_num):\n",
    "        self.account_num=account_num\n",
    "        self._balance=0\n",
    "    \n",
    "    @abstractmethod\n",
    "    def deposit(self, amount):\n",
    "        pass\n",
    "    \n",
    "    @abstractmethod\n",
    "    def withdrawl(self, amount):\n",
    "        pass\n",
    "    \n",
    "class Savingacc(Bankacc):\n",
    "    def deposit(self, amount):\n",
    "        self._balance+=amount\n",
    "    \n",
    "    def withdrawl(self, amount):\n",
    "        if amount<=self._balance:\n",
    "            self._balance-=amount\n",
    "        else:\n",
    "            print('Insufficient balance')\n",
    "        \n",
    "sa=Savingacc('1234')\n",
    "sa.deposit(1000)\n",
    "print(f'Account {sa.account_num}: Balance after deposit: Rs{sa._balance}')\n",
    "withdrawl_amount=800\n",
    "sa.withdrawl(withdrawl_amount)\n",
    "print(f'Account {sa.account_num}: Balance after withdrawl: Rs{sa._balance}')\n",
    "withdrawl_amount=500\n",
    "sa.withdrawl(withdrawl_amount)"
   ]
  },
  {
   "cell_type": "code",
   "execution_count": 3,
   "id": "5c123af5",
   "metadata": {},
   "outputs": [],
   "source": [
    "#Discuss the concept of interface classes in Python and their role in achieving abstraction.\n",
    "#Interface classes in Python are abstract classes that define a set of abstract methods but have no implementations.\n",
    "#They serve as contracts that concrete classes must adhere to. Interface classes provide a way to achieve abstraction and\n",
    "#ensure that specific methods are implemented in subclasses. While Python does not have a dedicated interface keyword,\n",
    "#you can use abstract classes to define interfaces with abstract methods."
   ]
  },
  {
   "cell_type": "code",
   "execution_count": 5,
   "id": "e3de700f",
   "metadata": {},
   "outputs": [
    {
     "name": "stdout",
     "output_type": "stream",
     "text": [
      "Tommy\n",
      "Tommy-the dog is eating.\n",
      "Tommy-the dog is sleeping.\n",
      "Whissky\n",
      "Whissky the cat is eating.\n",
      "Whissky the cat is sleeping.\n"
     ]
    }
   ],
   "source": [
    "#Create a Python class hierarchy for animals and implement abstraction by defining common methods (e.g., eat(), sleep())\n",
    "#in an abstract base class.\n",
    "\n",
    "class Animal:\n",
    "    def __init__(self, name):\n",
    "        self.name=name\n",
    "    \n",
    "    @abstractmethod\n",
    "    def eat(self):\n",
    "        pass\n",
    "    \n",
    "    @abstractmethod\n",
    "    def sleep(self):\n",
    "        pass\n",
    "    \n",
    "class Dog(Animal):\n",
    "    def eat(self):\n",
    "        print(f'{self.name}-the dog is eating.')\n",
    "    \n",
    "    def sleep(self):\n",
    "        print(f'{self.name}-the dog is sleeping.')\n",
    "    \n",
    "class Cat(Animal):\n",
    "    def eat(self):\n",
    "        print(f'{self.name} the cat is eating.')\n",
    "    \n",
    "    def sleep(self):\n",
    "        print(f'{self.name} the cat is sleeping.')\n",
    "    \n",
    "d=Dog('Tommy')\n",
    "c=Cat('Whissky')\n",
    "\n",
    "animals=[d, c]\n",
    "\n",
    "for an in animals:\n",
    "    print(an.name)\n",
    "    an.eat()\n",
    "    an.sleep()"
   ]
  },
  {
   "cell_type": "code",
   "execution_count": 6,
   "id": "2fdc5c56",
   "metadata": {},
   "outputs": [],
   "source": [
    "#Explain the significance of encapsulation in achieving abstraction. Provide examples.\n",
    "#Encapsulation is the practice of bundling data and methods within a single unit, like a class, and controlling their access,\n",
    "#whereas abstraction is about hiding complex implementation details and exposing only the essential functionalities."
   ]
  },
  {
   "cell_type": "code",
   "execution_count": 7,
   "id": "fcf65d80",
   "metadata": {},
   "outputs": [],
   "source": [
    "#What is the purpose of abstract methods, and how do they enforce abstraction in Python classes?\n",
    "#The module we can use to create an abstract class in Python is abc(abstract base class) module. Abstract methods force the\n",
    "#child classes to give the implementation of these methods in them and thus help us\n",
    "#achieve abstraction as each subclass can give its own implementation."
   ]
  },
  {
   "cell_type": "code",
   "execution_count": 9,
   "id": "6fdd1dba",
   "metadata": {},
   "outputs": [
    {
     "name": "stdout",
     "output_type": "stream",
     "text": [
      "Starting the Tata Safari\n",
      "Stopping the Tata Safari\n",
      "Starting the Royal Enfield Hunter\n",
      "Stopping the Royal Enfield Hunter\n"
     ]
    }
   ],
   "source": [
    "#lass for a vehicle system and demonstrate abstraction by defining common methods (e.g., `start()`, `stop()`) in an abstract base class.\n",
    "\n",
    "class Vehicle:\n",
    "    def __init__(self, brand, model):\n",
    "        self.brand=brand\n",
    "        self.model=model\n",
    "        \n",
    "    @abstractmethod\n",
    "    def start(self):\n",
    "        pass\n",
    "    \n",
    "    @abstractmethod\n",
    "    def stop(self):\n",
    "        pass\n",
    "    \n",
    "class Car(Vehicle):\n",
    "    def start(self):\n",
    "        return f'Starting the {self.brand} {self.model}'\n",
    "    \n",
    "    def stop(self):\n",
    "        return f'Stopping the {self.brand} {self.model}'\n",
    "    \n",
    "class Bike(Vehicle):\n",
    "    def start(self):\n",
    "        return f'Starting the {self.brand} {self.model}'\n",
    "    \n",
    "    def stop(self):\n",
    "        return f'Stopping the {self.brand} {self.model}'\n",
    "    \n",
    "c=Car('Tata', 'Safari')\n",
    "b=Bike('Royal Enfield', 'Hunter')\n",
    "\n",
    "print(c.start())\n",
    "print(c.stop())\n",
    "\n",
    "print(b.start())\n",
    "print(b.stop())"
   ]
  },
  {
   "cell_type": "code",
   "execution_count": 10,
   "id": "a5a21bbf",
   "metadata": {},
   "outputs": [],
   "source": [
    "#Describe the use of abstract properties in Python and how they can be employed in abstract classes.\n",
    "#Abstract Properties are Pythonic ways of using getters and setters. The abc module has a @abstractproperty decorator to use\n",
    "#abstract properties. Just like abstract methods, we need to define abstract properties in implementation classes.\n",
    "#Otherwise, Python will raise the error."
   ]
  },
  {
   "cell_type": "code",
   "execution_count": 12,
   "id": "c6fc2946",
   "metadata": {},
   "outputs": [
    {
     "name": "stdout",
     "output_type": "stream",
     "text": [
      "The salary of Jon is rs5000\n",
      "The salary of Ron is rs4000\n",
      "The salary of Don is rs3000\n"
     ]
    }
   ],
   "source": [
    "#employees in a company (e.g., manager, developer, designer) and implement abstraction by defining a common `get_salary()` method.\n",
    "\n",
    "class Employee:\n",
    "    def __init__(self, name):\n",
    "        self.name=name\n",
    "    \n",
    "    @abstractmethod\n",
    "    def get_sal(self):\n",
    "        pass\n",
    "\n",
    "class Manager(Employee):\n",
    "    def get_sal(self):\n",
    "        return 5000\n",
    "\n",
    "class Developer(Employee):\n",
    "    def get_sal(self):\n",
    "        return 4000\n",
    "    \n",
    "class Designer(Employee):\n",
    "    def get_sal(self):\n",
    "        return 3000\n",
    "    \n",
    "m=Manager('Jon')\n",
    "d=Developer('Ron')\n",
    "ds=Designer('Don')\n",
    "\n",
    "print(f'The salary of {m.name} is rs{m.get_sal()}')\n",
    "print(f'The salary of {d.name} is rs{d.get_sal()}')\n",
    "print(f'The salary of {ds.name} is rs{ds.get_sal()}')"
   ]
  },
  {
   "cell_type": "code",
   "execution_count": 13,
   "id": "0d23f723",
   "metadata": {},
   "outputs": [],
   "source": [
    "#Discuss the differences between abstract classes and concrete classes in Python, including their instantiation.\n",
    "#Concrete classes contain only concrete (normal) methods whereas abstract classes may contain both concrete methods\n",
    "#and abstract methods. Abstract classes cannot be instantiated directly, while concrete classes can.\n",
    "#Abstract classes serve as blueprints for concrete classes and often contain abstract methods (methods without implementations).\n",
    "#Concrete classes provide implementations for these abstract methods and can be instantiated."
   ]
  },
  {
   "cell_type": "code",
   "execution_count": 15,
   "id": "7d584833",
   "metadata": {},
   "outputs": [],
   "source": [
    "#Explain the concept of abstract data types (ADTs) and their role in achieving abstraction in Python.\n",
    "#Abstract Data Types (ADTs) are high-level descriptions of data structures that focus on what operations can be performed on\n",
    "#the data and not on how those operations are implemented. In Python, ADTs can be implemented using classes with abstract\n",
    "#methods that define the allowed operations. ADTs provide a level of abstraction by hiding the implementation\n",
    "#details of data structures and focusing on their behaviors."
   ]
  },
  {
   "cell_type": "code",
   "execution_count": 20,
   "id": "c763ec40",
   "metadata": {},
   "outputs": [
    {
     "name": "stdout",
     "output_type": "stream",
     "text": [
      "Laptop is starting now\n",
      "Laptop is shutting down\n",
      "Desktop is starting now\n",
      "Desktop is shutting down\n"
     ]
    }
   ],
   "source": [
    "#Create a Python class for a computer system, demonstrating abstraction by defining common methods (e.g., power_on(), shutdown()) in an abstract base class.\n",
    "\n",
    "class Computer:\n",
    "    def power_on(self):\n",
    "        pass\n",
    "    \n",
    "    def shutdown(self):\n",
    "        pass\n",
    "    \n",
    "class Laptop(Computer):\n",
    "    def power_on(self):\n",
    "        return 'Laptop is starting now'\n",
    "    \n",
    "    def shutdown(self):\n",
    "        return 'Laptop is shutting down'\n",
    "    \n",
    "class Desktop(Computer):\n",
    "    def power_on(self):\n",
    "        return 'Desktop is starting now'\n",
    "    \n",
    "    def shutdown(self):\n",
    "        return 'Desktop is shutting down'\n",
    "    \n",
    "l=Laptop()\n",
    "d=Desktop()\n",
    "\n",
    "print(l.power_on())\n",
    "print(l.shutdown())\n",
    "\n",
    "print(d.power_on())\n",
    "print(d.shutdown())"
   ]
  },
  {
   "cell_type": "code",
   "execution_count": 21,
   "id": "fb9c929c",
   "metadata": {},
   "outputs": [],
   "source": [
    "#Discuss the benefits of using abstraction in large-scale software development projects.\n",
    "#In software, abstraction lets different programmers work on separate parts without knowing everything about each other's code.\n",
    "#Makes Code Reusable: Abstraction makes code reusable. Just like you can use the same recipe for baking,\n",
    "#programmers can reuse code for similar tasks. Saves time and effort."
   ]
  },
  {
   "cell_type": "code",
   "execution_count": 22,
   "id": "03d30af5",
   "metadata": {},
   "outputs": [],
   "source": [
    "#Explain how abstraction enhances code reusability and modularity in Python programs.\n",
    "#Abstraction helps in organizing code and making it more manageable.\n",
    "#It allows us to create modular and reusable code by separating the implementation details from the interface.\n",
    "#With abstraction, we can focus on the high-level functionality of a program without worrying about the low-level implementation"
   ]
  },
  {
   "cell_type": "code",
   "execution_count": 23,
   "id": "5a9989fb",
   "metadata": {},
   "outputs": [
    {
     "name": "stdout",
     "output_type": "stream",
     "text": [
      "The Great Gatsby and F. Scott Fitzgerald is checked out\n",
      "To Kill a Mockingbird and Harper Lee is checked out\n",
      "The Great Gatsby and F. Scott Fitzgerald is checked in\n",
      "To Kill a Mockingbird and Harper Lee is checked in\n"
     ]
    }
   ],
   "source": [
    "#Create a Python class for a library system, implementing abstraction by defining common methods (e.g., add_book(), borrow_book()) in an abstract base class.\n",
    "\n",
    "class LibrarySystem:\n",
    "    def __init__(self, title, author):\n",
    "        self.title=title\n",
    "        self.author=author\n",
    "        self.checked_out=False\n",
    "    \n",
    "    @abstractmethod\n",
    "    def check_out(self):\n",
    "        pass\n",
    "    \n",
    "    @abstractmethod\n",
    "    def check_in(self):\n",
    "        pass\n",
    "    \n",
    "class Book(LibrarySystem):\n",
    "    def check_out(self):\n",
    "        if not self.checked_out:\n",
    "            self.checked_out=True\n",
    "            return f'{self.title} and {self.author} is checked out'\n",
    "        else:\n",
    "            return f'{self.title} and {self.author} is already checked out'\n",
    "    \n",
    "    def check_in(self):\n",
    "        if self.checked_out:\n",
    "            self.checked_out=False\n",
    "            return f'{self.title} and {self.author} is checked in'\n",
    "        else:\n",
    "            return f'{self.title} and {self.author} is already checked in'\n",
    "    \n",
    "b1 = Book(\"The Great Gatsby\", \"F. Scott Fitzgerald\")\n",
    "b2 = Book(\"To Kill a Mockingbird\", \"Harper Lee\")\n",
    "\n",
    "print(b1.check_out())\n",
    "print(b2.check_out())\n",
    "\n",
    "print(b1.check_in())\n",
    "print(b2.check_in())"
   ]
  },
  {
   "cell_type": "code",
   "execution_count": 24,
   "id": "efafac0d",
   "metadata": {},
   "outputs": [],
   "source": [
    "#Describe the concept of method abstraction in Python and how it relates to polymorphism.\n",
    "#Method abstraction in Python is related to polymorphism.\n",
    "#It allows you to define methods in abstract classes without providing implementations, serving as a contract for concrete\n",
    "#subclasses to implement. Polymorphism, on the other hand, allows objects of different classes to respond to method calls\n",
    "#in a unified way, even if they have different implementations. Method abstraction defines the expected behaviors\n",
    "#(method signatures), while polymorphism allows different classes to exhibit these behaviors,\n",
    "#making it an essential concept in achieving abstraction through polymorphism"
   ]
  },
  {
   "cell_type": "code",
   "execution_count": 25,
   "id": "0f63a3bb",
   "metadata": {},
   "outputs": [],
   "source": [
    "#Explain the concept of composition in Python and how it is used to build complex objects from simpler ones.\n",
    "#Composition in Python is a design concept where complex objects are created by combining simpler objects.\n",
    "#It allows you to build more complex and modular classes or objects by combining other objects as their components.\n",
    "#In composition, an object is composed of other objects, and it provides a way to establish\n",
    "#relationships between different classes while maintaining encapsulation."
   ]
  },
  {
   "cell_type": "code",
   "execution_count": 26,
   "id": "08041921",
   "metadata": {},
   "outputs": [],
   "source": [
    "#Describe the difference between composition and inheritance in object-oriented programming.\n",
    "#Inheritance and composition are two major concepts in object-oriented programming that model the relationship between two\n",
    "#classes. They drive the design of an application and determine how the application should evolve as new features are added or\n",
    "#requirements change. Both of them enable code reuse, but they do it in different ways.\n",
    "#Composition involves a \"has-a\" relationship between objects, while inheritance involves an \"is-a\" relationship between classes\n",
    "#Composition is more flexible and allows objects to be reused in different contexts, while inheritance promotes code reuse and\n",
    "#can simplify code by reducing duplication."
   ]
  },
  {
   "cell_type": "code",
   "execution_count": 28,
   "id": "0ebcb9fe",
   "metadata": {},
   "outputs": [],
   "source": [
    "# Create a Python class called `Author` with attributes for name and birthdate. Then, create a `Book` class that contains an instance of `Author` as a composition. Provide an example of creating a `Book` object.\n",
    "class Author:\n",
    "    def __init__(self, name, birthdate):\n",
    "        self.name=name\n",
    "        self.birthdate=birthdate\n",
    "    \n",
    "class Book:\n",
    "    def __init__(self, title, author):\n",
    "        self.title=title\n",
    "        self.author=author\n",
    "    \n",
    "a = Author(\"J.K. Rowling\", \"July 31, 1965\")\n",
    "b = Book(\"Harry Potter and the Sorcerer's Stone\", Author)"
   ]
  },
  {
   "cell_type": "code",
   "execution_count": 1,
   "id": "8d7c10d4",
   "metadata": {},
   "outputs": [],
   "source": [
    "#Discuss the benefits of using composition over inheritance in Python, especially in terms of code flexibility and reusability\n",
    "#Flexibility: Composition allows you to change the behavior of an object at runtime by changing its components,\n",
    "#making it more flexible and adaptable\n",
    "#Reusability: You can reuse components (e.g., Author) in different contexts, promoting code reuse.\n",
    "#Encapsulation: Composition enforces encapsulation because objects are treated as black boxes with well-defined interfaces.\n",
    "#Better organization: It encourages better code organization by separating concerns into separate components.\n",
    "#Avoiding the diamond problem: Composition can avoid issues like the \"diamond problem\" that arise in multiple inheritance."
   ]
  },
  {
   "cell_type": "code",
   "execution_count": 2,
   "id": "31ec7693",
   "metadata": {},
   "outputs": [
    {
     "name": "stdout",
     "output_type": "stream",
     "text": [
      "Car started with Engine started.\n"
     ]
    }
   ],
   "source": [
    "#How can you implement composition in Python classes? Provide examples of using composition to create complex objects\n",
    "\n",
    "#To implement composition in Python classes, we include instances of other classes as attributes within a class.\n",
    "#These attributes represent components that contribute to the behavior of the containing class.\n",
    "\n",
    "class Engine:\n",
    "    def start(self):\n",
    "        return \"Engine started.\"\n",
    "\n",
    "class Car:\n",
    "    def __init__(self):\n",
    "        self.engine = Engine()\n",
    "\n",
    "    def start(self):\n",
    "        return f\"Car started with {self.engine.start()}\"\n",
    "\n",
    "my_car = Car()\n",
    "print(my_car.start()) "
   ]
  },
  {
   "cell_type": "code",
   "execution_count": 4,
   "id": "c474ab4e",
   "metadata": {},
   "outputs": [
    {
     "name": "stdout",
     "output_type": "stream",
     "text": [
      "Playlist name: My Playlist\n",
      "Songs in the playlist\n",
      "Title: Song1, Artist: Artist1\n",
      "Title: Song2, Artist: Artist2\n",
      "Title: Song3, Artist: Artist3\n"
     ]
    }
   ],
   "source": [
    "#Create a Python class hierarchy for a music player system, using composition to represent playlists and songs.\n",
    "\n",
    "class Song:\n",
    "    def __init__(self, title, artist):\n",
    "        self.title=title\n",
    "        self.artist=artist\n",
    "    \n",
    "class Playlist:\n",
    "    def __init__(self, name):\n",
    "        self.name=name\n",
    "        self.songs=[]\n",
    "    \n",
    "    def add_songs(self, song):\n",
    "        self.songs.append(song)\n",
    "    \n",
    "s1=Song('Song1', 'Artist1')\n",
    "s2=Song('Song2', 'Artist2')\n",
    "s3=Song('Song3', 'Artist3')\n",
    "\n",
    "my_list=Playlist('My Playlist')\n",
    "\n",
    "my_list.add_songs(s1)\n",
    "my_list.add_songs(s2)\n",
    "my_list.add_songs(s3)\n",
    "\n",
    "print(f'Playlist name: {my_list.name}')\n",
    "print('Songs in the playlist')\n",
    "\n",
    "for song in my_list.songs:\n",
    "    print(f'Title: {song.title}, Artist: {song.artist}')"
   ]
  },
  {
   "cell_type": "code",
   "execution_count": 5,
   "id": "99b1510a",
   "metadata": {},
   "outputs": [],
   "source": [
    "#Explain the concept of \"has-a\" relationships in composition and how it helps design software systems.\n",
    "#Composition is a concept that models a has a relationship.\n",
    "#It enables creating complex types by combining objects of other types.\n",
    "#This means that a class Composite can contain an object of another class Component.\n",
    "#This relationship means that a Composite has a Component."
   ]
  },
  {
   "cell_type": "code",
   "execution_count": 8,
   "id": "db7f8a93",
   "metadata": {},
   "outputs": [
    {
     "name": "stdout",
     "output_type": "stream",
     "text": [
      "Executing CPU instructions and Loading the data into the RAM\n"
     ]
    }
   ],
   "source": [
    "#Create a Python class for a computer system, using composition to represent components like CPU, RAM, and storage devices.\n",
    "class CPU:\n",
    "    def execute(self):\n",
    "        return 'Executing CPU instructions'\n",
    "\n",
    "class RAM:\n",
    "    def load(self):\n",
    "        return 'Loading the data into the RAM'\n",
    "    \n",
    "class Computer:\n",
    "    def __init__(self):\n",
    "        self.cpu=CPU()\n",
    "        self.ram=RAM()\n",
    "    \n",
    "    def start(self):\n",
    "        return f'{self.cpu.execute()} and {self.ram.load()}'\n",
    "\n",
    "comp=Computer()\n",
    "print(comp.start())"
   ]
  },
  {
   "cell_type": "code",
   "execution_count": 9,
   "id": "1cffd31e",
   "metadata": {},
   "outputs": [],
   "source": [
    "#Describe the concept of \"delegation\" in composition and how it simplifies the design of complex systems.\n",
    "#\"Delegation\" in composition means that an object can delegate certain responsibilities or tasks to its components.\n",
    "#This simplifies the design of complex systems by distributing tasks to specialized components, leading to more maintainable\n",
    "#and modular code. Delegation allows objects to focus on their core functionality while relying on other\n",
    "#objects for specific tasks."
   ]
  },
  {
   "cell_type": "code",
   "execution_count": 13,
   "id": "a50658a5",
   "metadata": {},
   "outputs": [
    {
     "name": "stdout",
     "output_type": "stream",
     "text": [
      "Engine Started Shifted to Drive gear. Wheels are rounding\n"
     ]
    }
   ],
   "source": [
    "#Create a Python class for a car, using composition to represent components like the engine, wheels, and transmission.\n",
    "\n",
    "class Engine:\n",
    "    def start(self):\n",
    "        return 'Engine Started'\n",
    "    \n",
    "class Wheels:\n",
    "    def rotate(self):\n",
    "        return 'Wheels are rounding'\n",
    "    \n",
    "class Transmission:\n",
    "    def gear(self, gear):\n",
    "        return f'Shifted to {gear} gear.'\n",
    "    \n",
    "class Car:\n",
    "    def __init__(self):\n",
    "        self.engine=Engine()\n",
    "        self.wheels=Wheels()\n",
    "        self.transmission=Transmission()\n",
    "    \n",
    "    def drive(self):\n",
    "        return f\"{self.engine.start()} {self.transmission.gear('Drive')} {self.wheels.rotate()}\"\n",
    "    \n",
    "car=Car()\n",
    "print(car.drive())"
   ]
  },
  {
   "cell_type": "code",
   "execution_count": 16,
   "id": "defdbcbc",
   "metadata": {},
   "outputs": [
    {
     "name": "stdout",
     "output_type": "stream",
     "text": [
      "Engine Started Shifted to Drive gear. Wheels are rounding\n"
     ]
    }
   ],
   "source": [
    "#How can you encapsulate and hide the details of composed objects in Python classes to maintain abstraction?\n",
    "class Car:\n",
    "    def __init__(self):\n",
    "        self.__engine=Engine()\n",
    "        self.__wheels=Wheels()\n",
    "        self.__transmission=Transmission()\n",
    "\n",
    "    def drive(self):\n",
    "        return f\"{self.__engine.start()} {self.__transmission.gear('Drive')} {self.__wheels.rotate()}\"\n",
    "\n",
    "car = Car()\n",
    "print(car.drive())"
   ]
  },
  {
   "cell_type": "code",
   "execution_count": 17,
   "id": "f8f2e32b",
   "metadata": {},
   "outputs": [],
   "source": [
    "#Create a Python class for a university course, using composition to represent students, instructors, and course materials.\n",
    "class Student:\n",
    "    def __init__(self, name, stu_id):\n",
    "        self.name=name\n",
    "        self.stu_id=stu_id\n",
    "    \n",
    "class Instructor:\n",
    "    def __init__(self, name, emp_id):\n",
    "        self.name=name\n",
    "        self.emp_id=emp_id\n",
    "    \n",
    "class Course:\n",
    "    def __init__(self, title, instructor, students, material):\n",
    "        self.title=title\n",
    "        self.instructor=instructor\n",
    "        self.students=students\n",
    "        self.material=material\n",
    "    \n",
    "instructor = Instructor(\"Dr. Smith\", \"1234\")\n",
    "students = [Student(\"Alice\", \"S001\"), Student(\"Bob\", \"S002\")]\n",
    "materials = [\"Syllabus\", \"Textbook\"]\n",
    "course = Course(\"Python Programming\", instructor, students, materials)"
   ]
  },
  {
   "cell_type": "code",
   "execution_count": 18,
   "id": "13ffa8df",
   "metadata": {},
   "outputs": [],
   "source": [
    "#Discuss the challenges and drawbacks of composition, such as increased complexity and potential for tight coupling between objects.\n",
    "\n",
    "#Challenges and drawbacks of composition include:\n",
    "#Increased complexity: As you compose more objects, the complexity of the system can grow, making it harder to manage.\n",
    "#Tight coupling: Care must be taken to prevent tight coupling between objects, which can lead to dependencies and maintenance challenges.\n",
    "#Potential for inefficiency: Composition can introduce overhead, as more objects need to be managed and coordinated."
   ]
  },
  {
   "cell_type": "code",
   "execution_count": 19,
   "id": "c06dd294",
   "metadata": {},
   "outputs": [
    {
     "name": "stdout",
     "output_type": "stream",
     "text": [
      "Alice's Posts:\n",
      "Post Content: My amazing vacation\n",
      "Comments:\n",
      "- Comment by Bob: Great post!\n",
      "- Comment by Alice: Thanks, Bob!\n",
      "\n"
     ]
    }
   ],
   "source": [
    "#Create a Python class for a social media application, using composition to represent users, posts, and comments.\n",
    "\n",
    "class User:\n",
    "    def __init__(self, username):\n",
    "        self.username = username\n",
    "        self.posts = []\n",
    "\n",
    "class Post:\n",
    "    def __init__(self, content, comments):\n",
    "        self.content = content\n",
    "        self.comments = comments\n",
    "\n",
    "class Comment:\n",
    "    def __init__(self, text, user):\n",
    "        self.text = text\n",
    "        self.user = user\n",
    "\n",
    "# Example of creating a social media post\n",
    "user1 = User(\"Alice\")\n",
    "user2 = User(\"Bob\")\n",
    "comment1 = Comment(\"Great post!\", user2)\n",
    "comment2 = Comment(\"Thanks, Bob!\", user1)\n",
    "post = Post(\"My amazing vacation\", [comment1, comment2])\n",
    "user1.posts.append(post)\n",
    "\n",
    "# Output information about User1's posts and comments\n",
    "print(f\"{user1.username}'s Posts:\")\n",
    "for post in user1.posts:\n",
    "    print(f\"Post Content: {post.content}\")\n",
    "    print(\"Comments:\")\n",
    "    for comment in post.comments:\n",
    "        print(f\"- Comment by {comment.user.username}: {comment.text}\")\n",
    "    print()\n"
   ]
  },
  {
   "cell_type": "code",
   "execution_count": null,
   "id": "933839c3",
   "metadata": {},
   "outputs": [],
   "source": []
  }
 ],
 "metadata": {
  "kernelspec": {
   "display_name": "Python 3 (ipykernel)",
   "language": "python",
   "name": "python3"
  },
  "language_info": {
   "codemirror_mode": {
    "name": "ipython",
    "version": 3
   },
   "file_extension": ".py",
   "mimetype": "text/x-python",
   "name": "python",
   "nbconvert_exporter": "python",
   "pygments_lexer": "ipython3",
   "version": "3.11.4"
  }
 },
 "nbformat": 4,
 "nbformat_minor": 5
}
